{
 "cells": [
  {
   "cell_type": "markdown",
   "id": "34346c42",
   "metadata": {
    "ExecuteTime": {
     "end_time": "2021-12-24T08:45:26.031451Z",
     "start_time": "2021-12-24T08:45:26.017001Z"
    }
   },
   "source": [
    "# Bank Churn Analysis"
   ]
  },
  {
   "cell_type": "markdown",
   "id": "886c7d6f",
   "metadata": {
    "ExecuteTime": {
     "end_time": "2021-12-24T08:46:08.319918Z",
     "start_time": "2021-12-24T08:46:08.314348Z"
    }
   },
   "source": [
    "## Problem Statement"
   ]
  },
  {
   "cell_type": "markdown",
   "id": "63383f3c",
   "metadata": {},
   "source": [
    "In the world of business, it is said that every customer that is lost leads to a loss of capital. Many banks today hope to gain a competitive edge and one of the most acknowledged problems is customer churn. \n",
    "\n",
    "Retaining existing customers and thereby increasing their lifetime value is important but there is little the banks can do about customer churn when they don’t see it coming in the first place. \n",
    "\n",
    "The aim of this study is to use historical data to learn from past customer behaviour and external triggers that led to churn and predict future occurrence of a churn-like event. This will allow the bank to prevent customer churn with targeted proactive retention."
   ]
  },
  {
   "cell_type": "markdown",
   "id": "4b5841bd",
   "metadata": {},
   "source": [
    "## Dataset and Data Handling"
   ]
  },
  {
   "cell_type": "code",
   "execution_count": 20,
   "id": "c07771c0",
   "metadata": {
    "ExecuteTime": {
     "end_time": "2021-12-24T09:41:30.305480Z",
     "start_time": "2021-12-24T09:41:30.285279Z"
    }
   },
   "outputs": [],
   "source": [
    "# Dataset obtained from: https://www.kaggle.com/mathchi/churn-for-bank-customers "
   ]
  },
  {
   "cell_type": "markdown",
   "id": "aa319ee2",
   "metadata": {},
   "source": [
    "### Import Packages"
   ]
  },
  {
   "cell_type": "code",
   "execution_count": 6,
   "id": "e45cf47f",
   "metadata": {
    "ExecuteTime": {
     "end_time": "2021-12-26T10:36:57.369810Z",
     "start_time": "2021-12-26T10:36:57.346565Z"
    }
   },
   "outputs": [],
   "source": [
    "from IPython.core.interactiveshell import InteractiveShell\n",
    "InteractiveShell.ast_node_interactivity = \"all\""
   ]
  },
  {
   "cell_type": "code",
   "execution_count": 7,
   "id": "ac698670",
   "metadata": {
    "ExecuteTime": {
     "end_time": "2021-12-26T10:37:02.849074Z",
     "start_time": "2021-12-26T10:36:59.171621Z"
    }
   },
   "outputs": [],
   "source": [
    "# Import all the necessary libraries \n",
    "import pandas as pd\n",
    "import sklearn\n",
    "import numpy as np\n",
    "import matplotlib.pyplot as plt\n",
    "import seaborn as sns\n",
    "from sklearn.neighbors import KNeighborsClassifier\n",
    "from sklearn.ensemble import RandomForestClassifier\n",
    "from sklearn.metrics import accuracy_score\n",
    "from sklearn.metrics import confusion_matrix\n",
    "from sklearn.metrics import ConfusionMatrixDisplay\n",
    "from sklearn.metrics import accuracy_score\n",
    "from sklearn.impute import SimpleImputer\n",
    "from sklearn.model_selection import train_test_split\n",
    "from sklearn.preprocessing import StandardScaler"
   ]
  },
  {
   "cell_type": "markdown",
   "id": "9d648d28",
   "metadata": {},
   "source": [
    "### Read Data"
   ]
  },
  {
   "cell_type": "code",
   "execution_count": 8,
   "id": "f23ba1d4",
   "metadata": {
    "ExecuteTime": {
     "end_time": "2021-12-26T10:37:02.902861Z",
     "start_time": "2021-12-26T10:37:02.854574Z"
    }
   },
   "outputs": [],
   "source": [
    "# Import data\n",
    "df = pd.read_csv('churn.csv')"
   ]
  },
  {
   "cell_type": "code",
   "execution_count": 9,
   "id": "2ef03ed7",
   "metadata": {
    "ExecuteTime": {
     "end_time": "2021-12-26T10:37:03.314322Z",
     "start_time": "2021-12-26T10:37:03.276810Z"
    },
    "scrolled": false
   },
   "outputs": [
    {
     "data": {
      "text/html": [
       "<div>\n",
       "<style scoped>\n",
       "    .dataframe tbody tr th:only-of-type {\n",
       "        vertical-align: middle;\n",
       "    }\n",
       "\n",
       "    .dataframe tbody tr th {\n",
       "        vertical-align: top;\n",
       "    }\n",
       "\n",
       "    .dataframe thead th {\n",
       "        text-align: right;\n",
       "    }\n",
       "</style>\n",
       "<table border=\"1\" class=\"dataframe\">\n",
       "  <thead>\n",
       "    <tr style=\"text-align: right;\">\n",
       "      <th></th>\n",
       "      <th>RowNumber</th>\n",
       "      <th>CustomerId</th>\n",
       "      <th>Surname</th>\n",
       "      <th>CreditScore</th>\n",
       "      <th>Geography</th>\n",
       "      <th>Gender</th>\n",
       "      <th>Age</th>\n",
       "      <th>Tenure</th>\n",
       "      <th>Balance</th>\n",
       "      <th>NumOfProducts</th>\n",
       "      <th>HasCrCard</th>\n",
       "      <th>IsActiveMember</th>\n",
       "      <th>EstimatedSalary</th>\n",
       "      <th>Exited</th>\n",
       "    </tr>\n",
       "  </thead>\n",
       "  <tbody>\n",
       "    <tr>\n",
       "      <th>0</th>\n",
       "      <td>1</td>\n",
       "      <td>15634602</td>\n",
       "      <td>Hargrave</td>\n",
       "      <td>619</td>\n",
       "      <td>France</td>\n",
       "      <td>Female</td>\n",
       "      <td>42</td>\n",
       "      <td>2</td>\n",
       "      <td>0.00</td>\n",
       "      <td>1</td>\n",
       "      <td>1</td>\n",
       "      <td>1</td>\n",
       "      <td>101348.88</td>\n",
       "      <td>1</td>\n",
       "    </tr>\n",
       "    <tr>\n",
       "      <th>1</th>\n",
       "      <td>2</td>\n",
       "      <td>15647311</td>\n",
       "      <td>Hill</td>\n",
       "      <td>608</td>\n",
       "      <td>Spain</td>\n",
       "      <td>Female</td>\n",
       "      <td>41</td>\n",
       "      <td>1</td>\n",
       "      <td>83807.86</td>\n",
       "      <td>1</td>\n",
       "      <td>0</td>\n",
       "      <td>1</td>\n",
       "      <td>112542.58</td>\n",
       "      <td>0</td>\n",
       "    </tr>\n",
       "    <tr>\n",
       "      <th>2</th>\n",
       "      <td>3</td>\n",
       "      <td>15619304</td>\n",
       "      <td>Onio</td>\n",
       "      <td>502</td>\n",
       "      <td>France</td>\n",
       "      <td>Female</td>\n",
       "      <td>42</td>\n",
       "      <td>8</td>\n",
       "      <td>159660.80</td>\n",
       "      <td>3</td>\n",
       "      <td>1</td>\n",
       "      <td>0</td>\n",
       "      <td>113931.57</td>\n",
       "      <td>1</td>\n",
       "    </tr>\n",
       "    <tr>\n",
       "      <th>3</th>\n",
       "      <td>4</td>\n",
       "      <td>15701354</td>\n",
       "      <td>Boni</td>\n",
       "      <td>699</td>\n",
       "      <td>France</td>\n",
       "      <td>Female</td>\n",
       "      <td>39</td>\n",
       "      <td>1</td>\n",
       "      <td>0.00</td>\n",
       "      <td>2</td>\n",
       "      <td>0</td>\n",
       "      <td>0</td>\n",
       "      <td>93826.63</td>\n",
       "      <td>0</td>\n",
       "    </tr>\n",
       "    <tr>\n",
       "      <th>4</th>\n",
       "      <td>5</td>\n",
       "      <td>15737888</td>\n",
       "      <td>Mitchell</td>\n",
       "      <td>850</td>\n",
       "      <td>Spain</td>\n",
       "      <td>Female</td>\n",
       "      <td>43</td>\n",
       "      <td>2</td>\n",
       "      <td>125510.82</td>\n",
       "      <td>1</td>\n",
       "      <td>1</td>\n",
       "      <td>1</td>\n",
       "      <td>79084.10</td>\n",
       "      <td>0</td>\n",
       "    </tr>\n",
       "  </tbody>\n",
       "</table>\n",
       "</div>"
      ],
      "text/plain": [
       "   RowNumber  CustomerId   Surname  CreditScore Geography  Gender  Age  \\\n",
       "0          1    15634602  Hargrave          619    France  Female   42   \n",
       "1          2    15647311      Hill          608     Spain  Female   41   \n",
       "2          3    15619304      Onio          502    France  Female   42   \n",
       "3          4    15701354      Boni          699    France  Female   39   \n",
       "4          5    15737888  Mitchell          850     Spain  Female   43   \n",
       "\n",
       "   Tenure    Balance  NumOfProducts  HasCrCard  IsActiveMember  \\\n",
       "0       2       0.00              1          1               1   \n",
       "1       1   83807.86              1          0               1   \n",
       "2       8  159660.80              3          1               0   \n",
       "3       1       0.00              2          0               0   \n",
       "4       2  125510.82              1          1               1   \n",
       "\n",
       "   EstimatedSalary  Exited  \n",
       "0        101348.88       1  \n",
       "1        112542.58       0  \n",
       "2        113931.57       1  \n",
       "3         93826.63       0  \n",
       "4         79084.10       0  "
      ]
     },
     "execution_count": 9,
     "metadata": {},
     "output_type": "execute_result"
    }
   ],
   "source": [
    "# Display top 5 rows of the dataset\n",
    "df.head()"
   ]
  },
  {
   "cell_type": "markdown",
   "id": "670fe8fb",
   "metadata": {},
   "source": [
    "### Check for Duplicates"
   ]
  },
  {
   "cell_type": "code",
   "execution_count": 10,
   "id": "e8d09a70",
   "metadata": {
    "ExecuteTime": {
     "end_time": "2021-12-26T10:37:06.091641Z",
     "start_time": "2021-12-26T10:37:06.064010Z"
    }
   },
   "outputs": [
    {
     "data": {
      "text/plain": [
       "0"
      ]
     },
     "execution_count": 10,
     "metadata": {},
     "output_type": "execute_result"
    }
   ],
   "source": [
    "df.duplicated().sum()"
   ]
  },
  {
   "cell_type": "markdown",
   "id": "c7d60876",
   "metadata": {},
   "source": [
    "### Check for missing values"
   ]
  },
  {
   "cell_type": "code",
   "execution_count": 11,
   "id": "1a3e22e8",
   "metadata": {
    "ExecuteTime": {
     "end_time": "2021-12-26T10:37:08.722372Z",
     "start_time": "2021-12-26T10:37:08.696012Z"
    }
   },
   "outputs": [
    {
     "name": "stdout",
     "output_type": "stream",
     "text": [
      "<class 'pandas.core.frame.DataFrame'>\n",
      "RangeIndex: 10000 entries, 0 to 9999\n",
      "Data columns (total 14 columns):\n",
      " #   Column           Non-Null Count  Dtype  \n",
      "---  ------           --------------  -----  \n",
      " 0   RowNumber        10000 non-null  int64  \n",
      " 1   CustomerId       10000 non-null  int64  \n",
      " 2   Surname          10000 non-null  object \n",
      " 3   CreditScore      10000 non-null  int64  \n",
      " 4   Geography        10000 non-null  object \n",
      " 5   Gender           10000 non-null  object \n",
      " 6   Age              10000 non-null  int64  \n",
      " 7   Tenure           10000 non-null  int64  \n",
      " 8   Balance          10000 non-null  float64\n",
      " 9   NumOfProducts    10000 non-null  int64  \n",
      " 10  HasCrCard        10000 non-null  int64  \n",
      " 11  IsActiveMember   10000 non-null  int64  \n",
      " 12  EstimatedSalary  10000 non-null  float64\n",
      " 13  Exited           10000 non-null  int64  \n",
      "dtypes: float64(2), int64(9), object(3)\n",
      "memory usage: 1.1+ MB\n"
     ]
    }
   ],
   "source": [
    "# Check datatypes and null values\n",
    "df.info()"
   ]
  },
  {
   "cell_type": "markdown",
   "id": "300e08f7",
   "metadata": {},
   "source": [
    "From the above, we know that the dataset has 10,000 rows and 14 columns.\n",
    "\n",
    "As \"Row Number\", \"Customer Id\" and \"Surname\" has no effect to the analysis, we will remove them from the dataset shortly."
   ]
  },
  {
   "cell_type": "markdown",
   "id": "eea268ef",
   "metadata": {},
   "source": [
    "### Drop irrelevant columns"
   ]
  },
  {
   "cell_type": "code",
   "execution_count": 12,
   "id": "f1849a80",
   "metadata": {
    "ExecuteTime": {
     "end_time": "2021-12-26T10:37:10.892618Z",
     "start_time": "2021-12-26T10:37:10.883188Z"
    },
    "scrolled": true
   },
   "outputs": [],
   "source": [
    "# Drop irrelevant columns \n",
    "# axis = 0 refers to the rows and axis = 1 refers to the columns\n",
    "\n",
    "df = df.drop([\"RowNumber\",\"CustomerId\",\"Surname\"],axis=1)"
   ]
  },
  {
   "cell_type": "code",
   "execution_count": 13,
   "id": "9c9af5b8",
   "metadata": {
    "ExecuteTime": {
     "end_time": "2021-12-26T10:37:12.347251Z",
     "start_time": "2021-12-26T10:37:12.328525Z"
    },
    "scrolled": true
   },
   "outputs": [
    {
     "data": {
      "text/html": [
       "<div>\n",
       "<style scoped>\n",
       "    .dataframe tbody tr th:only-of-type {\n",
       "        vertical-align: middle;\n",
       "    }\n",
       "\n",
       "    .dataframe tbody tr th {\n",
       "        vertical-align: top;\n",
       "    }\n",
       "\n",
       "    .dataframe thead th {\n",
       "        text-align: right;\n",
       "    }\n",
       "</style>\n",
       "<table border=\"1\" class=\"dataframe\">\n",
       "  <thead>\n",
       "    <tr style=\"text-align: right;\">\n",
       "      <th></th>\n",
       "      <th>CreditScore</th>\n",
       "      <th>Geography</th>\n",
       "      <th>Gender</th>\n",
       "      <th>Age</th>\n",
       "      <th>Tenure</th>\n",
       "      <th>Balance</th>\n",
       "      <th>NumOfProducts</th>\n",
       "      <th>HasCrCard</th>\n",
       "      <th>IsActiveMember</th>\n",
       "      <th>EstimatedSalary</th>\n",
       "      <th>Exited</th>\n",
       "    </tr>\n",
       "  </thead>\n",
       "  <tbody>\n",
       "    <tr>\n",
       "      <th>0</th>\n",
       "      <td>619</td>\n",
       "      <td>France</td>\n",
       "      <td>Female</td>\n",
       "      <td>42</td>\n",
       "      <td>2</td>\n",
       "      <td>0.00</td>\n",
       "      <td>1</td>\n",
       "      <td>1</td>\n",
       "      <td>1</td>\n",
       "      <td>101348.88</td>\n",
       "      <td>1</td>\n",
       "    </tr>\n",
       "    <tr>\n",
       "      <th>1</th>\n",
       "      <td>608</td>\n",
       "      <td>Spain</td>\n",
       "      <td>Female</td>\n",
       "      <td>41</td>\n",
       "      <td>1</td>\n",
       "      <td>83807.86</td>\n",
       "      <td>1</td>\n",
       "      <td>0</td>\n",
       "      <td>1</td>\n",
       "      <td>112542.58</td>\n",
       "      <td>0</td>\n",
       "    </tr>\n",
       "    <tr>\n",
       "      <th>2</th>\n",
       "      <td>502</td>\n",
       "      <td>France</td>\n",
       "      <td>Female</td>\n",
       "      <td>42</td>\n",
       "      <td>8</td>\n",
       "      <td>159660.80</td>\n",
       "      <td>3</td>\n",
       "      <td>1</td>\n",
       "      <td>0</td>\n",
       "      <td>113931.57</td>\n",
       "      <td>1</td>\n",
       "    </tr>\n",
       "    <tr>\n",
       "      <th>3</th>\n",
       "      <td>699</td>\n",
       "      <td>France</td>\n",
       "      <td>Female</td>\n",
       "      <td>39</td>\n",
       "      <td>1</td>\n",
       "      <td>0.00</td>\n",
       "      <td>2</td>\n",
       "      <td>0</td>\n",
       "      <td>0</td>\n",
       "      <td>93826.63</td>\n",
       "      <td>0</td>\n",
       "    </tr>\n",
       "    <tr>\n",
       "      <th>4</th>\n",
       "      <td>850</td>\n",
       "      <td>Spain</td>\n",
       "      <td>Female</td>\n",
       "      <td>43</td>\n",
       "      <td>2</td>\n",
       "      <td>125510.82</td>\n",
       "      <td>1</td>\n",
       "      <td>1</td>\n",
       "      <td>1</td>\n",
       "      <td>79084.10</td>\n",
       "      <td>0</td>\n",
       "    </tr>\n",
       "  </tbody>\n",
       "</table>\n",
       "</div>"
      ],
      "text/plain": [
       "   CreditScore Geography  Gender  Age  Tenure    Balance  NumOfProducts  \\\n",
       "0          619    France  Female   42       2       0.00              1   \n",
       "1          608     Spain  Female   41       1   83807.86              1   \n",
       "2          502    France  Female   42       8  159660.80              3   \n",
       "3          699    France  Female   39       1       0.00              2   \n",
       "4          850     Spain  Female   43       2  125510.82              1   \n",
       "\n",
       "   HasCrCard  IsActiveMember  EstimatedSalary  Exited  \n",
       "0          1               1        101348.88       1  \n",
       "1          0               1        112542.58       0  \n",
       "2          1               0        113931.57       1  \n",
       "3          0               0         93826.63       0  \n",
       "4          1               1         79084.10       0  "
      ]
     },
     "execution_count": 13,
     "metadata": {},
     "output_type": "execute_result"
    }
   ],
   "source": [
    "# Display top 5 rows of the dataset after dropping the columns above\n",
    "\n",
    "df.head()"
   ]
  },
  {
   "cell_type": "markdown",
   "id": "a5e0c861",
   "metadata": {},
   "source": [
    "## EDA"
   ]
  },
  {
   "cell_type": "markdown",
   "id": "d6a3a080",
   "metadata": {},
   "source": [
    "### Exploring Data"
   ]
  },
  {
   "cell_type": "code",
   "execution_count": 14,
   "id": "32ee9a5b",
   "metadata": {
    "ExecuteTime": {
     "end_time": "2021-12-26T10:37:16.448197Z",
     "start_time": "2021-12-26T10:37:16.117708Z"
    }
   },
   "outputs": [
    {
     "data": {
      "text/plain": [
       "([<matplotlib.patches.Wedge at 0x7f92d468d2b0>,\n",
       "  <matplotlib.patches.Wedge at 0x7f92d472e490>],\n",
       " [Text(-0.6568642010431008, 0.8823431426537008, 'Exited'),\n",
       "  Text(0.7165791284106553, -0.9625561556222191, 'Retained')],\n",
       " [Text(-0.3582895642053277, 0.4812780778111095, '20.4%'),\n",
       "  Text(0.4180044915728822, -0.5614910907796278, '79.6%')])"
      ]
     },
     "execution_count": 14,
     "metadata": {},
     "output_type": "execute_result"
    },
    {
     "data": {
      "text/plain": [
       "(-1.0589043578561668,\n",
       " 1.1613688442492547,\n",
       " -1.1857062610374767,\n",
       " 1.1040812505255941)"
      ]
     },
     "execution_count": 14,
     "metadata": {},
     "output_type": "execute_result"
    },
    {
     "data": {
      "text/plain": [
       "Text(0.5, 1.0, 'Proportion of customers who exited')"
      ]
     },
     "execution_count": 14,
     "metadata": {},
     "output_type": "execute_result"
    },
    {
     "data": {
      "image/png": "[encoded data removed]",
      "text/plain": [
       "<Figure size 360x360 with 1 Axes>"
      ]
     },
     "metadata": {},
     "output_type": "display_data"
    }
   ],
   "source": [
    "# Proportion of customers who churned based on the total customer base \n",
    "\n",
    "labels = 'Exited', 'Retained'\n",
    "sizes = [df.Exited[df['Exited']==1].count(), df.Exited[df['Exited']==0].count()]\n",
    "explode = (0, 0.1)\n",
    "fig1, ax1 = plt.subplots(figsize=(5, 5))\n",
    "ax1.pie(sizes, explode=explode, labels=labels, autopct='%1.1f%%',\n",
    "        shadow=True, startangle=90)\n",
    "ax1.axis('equal')\n",
    "plt.title(\"Proportion of customers who exited\", size = 15)\n",
    "\n",
    "plt.show()"
   ]
  },
  {
   "cell_type": "markdown",
   "id": "779e5522",
   "metadata": {},
   "source": [
    "* The bank has lost ***20.4%*** of its total customer base. "
   ]
  },
  {
   "cell_type": "code",
   "execution_count": 15,
   "id": "c3a107bd",
   "metadata": {
    "ExecuteTime": {
     "end_time": "2021-12-26T10:37:21.087088Z",
     "start_time": "2021-12-26T10:37:19.542315Z"
    }
   },
   "outputs": [
    {
     "data": {
      "text/plain": [
       "<AxesSubplot:xlabel='Geography', ylabel='count'>"
      ]
     },
     "execution_count": 15,
     "metadata": {},
     "output_type": "execute_result"
    },
    {
     "data": {
      "text/plain": [
       "<AxesSubplot:xlabel='Gender', ylabel='count'>"
      ]
     },
     "execution_count": 15,
     "metadata": {},
     "output_type": "execute_result"
    },
    {
     "data": {
      "text/plain": [
       "<AxesSubplot:xlabel='HasCrCard', ylabel='count'>"
      ]
     },
     "execution_count": 15,
     "metadata": {},
     "output_type": "execute_result"
    },
    {
     "data": {
      "text/plain": [
       "<AxesSubplot:xlabel='IsActiveMember', ylabel='count'>"
      ]
     },
     "execution_count": 15,
     "metadata": {},
     "output_type": "execute_result"
    },
    {
     "data": {
      "text/plain": [
       "<AxesSubplot:xlabel='NumOfProducts', ylabel='count'>"
      ]
     },
     "execution_count": 15,
     "metadata": {},
     "output_type": "execute_result"
    },
    {
     "data": {
      "text/plain": [
       "<AxesSubplot:xlabel='Tenure', ylabel='count'>"
      ]
     },
     "execution_count": 15,
     "metadata": {},
     "output_type": "execute_result"
    },
    {
     "data": {
      "image/png": "[encoded data removed]",
      "text/plain": [
       "<Figure size 1080x720 with 6 Axes>"
      ]
     },
     "metadata": {
      "needs_background": "light"
     },
     "output_type": "display_data"
    }
   ],
   "source": [
    "# Establish possible relations between the attributes/variables with Exit status\n",
    "\n",
    "fig, axarr = plt.subplots(3, 2, figsize=(15, 10))\n",
    "\n",
    "plt.subplots_adjust(hspace=0.4)\n",
    "\n",
    "sns.countplot(x='Geography', hue = 'Exited', data = df, ax=axarr[0][0])\n",
    "sns.countplot(x='Gender', hue = 'Exited',data = df, ax=axarr[0][1])\n",
    "sns.countplot(x='HasCrCard', hue = 'Exited',data = df, ax=axarr[1][0])\n",
    "sns.countplot(x='IsActiveMember', hue = 'Exited',data = df, ax=axarr[1][1])\n",
    "sns.countplot(x='NumOfProducts', hue = 'Exited',data = df, ax=axarr[2][0])\n",
    "sns.countplot(x='Tenure', hue = 'Exited',data = df, ax=axarr[2][1])"
   ]
  },
  {
   "cell_type": "markdown",
   "id": "f962590e",
   "metadata": {},
   "source": [
    "***Note: 0 = No, 1 = Yes***\n",
    "\n",
    "It is observed that:\n",
    "* There are twice as many customers from France than from Spain or Germany.\n",
    "* Germany had the most customers who exited, followed closely by France and Spain. \n",
    "* There are more Male customers than Female customers. \n",
    "* There were a higher number of Females who exited. \n",
    "* Most of the customer base are credit card holders and there were a higher number of them who left. \n",
    "* Close to half of the total customer base is inactive. \n",
    "* Most of the customers who left were inactive and it is noted that active customers are leaving too.\n",
    "* Majority of the customers own 1 or 2 products. \n",
    "* Most of the customers who own 3 or 4 products had churned. \n",
    "* Most of the customers who left had a tenure of between 1 - 9 years. "
   ]
  },
  {
   "cell_type": "code",
   "execution_count": 16,
   "id": "01d6e970",
   "metadata": {
    "ExecuteTime": {
     "end_time": "2021-12-26T10:37:25.034565Z",
     "start_time": "2021-12-26T10:37:24.717733Z"
    }
   },
   "outputs": [
    {
     "data": {
      "text/plain": [
       "<AxesSubplot:>"
      ]
     },
     "execution_count": 16,
     "metadata": {},
     "output_type": "execute_result"
    },
    {
     "data": {
      "image/png": "[encoded data removed]",
      "text/plain": [
       "<Figure size 1080x360 with 1 Axes>"
      ]
     },
     "metadata": {
      "needs_background": "light"
     },
     "output_type": "display_data"
    }
   ],
   "source": [
    "# Age distribution of customer\n",
    "\n",
    "df['Age'].hist(figsize=(15,5))"
   ]
  },
  {
   "cell_type": "markdown",
   "id": "694bd912",
   "metadata": {
    "ExecuteTime": {
     "end_time": "2021-12-24T17:10:49.844068Z",
     "start_time": "2021-12-24T17:10:49.829848Z"
    }
   },
   "source": [
    "* It is observed that most of the customers are between ***25 to 50*** years old."
   ]
  },
  {
   "cell_type": "code",
   "execution_count": 17,
   "id": "d5c15b14",
   "metadata": {
    "ExecuteTime": {
     "end_time": "2021-12-26T10:37:28.569703Z",
     "start_time": "2021-12-26T10:37:28.046219Z"
    }
   },
   "outputs": [
    {
     "data": {
      "text/plain": [
       "<seaborn.axisgrid.FacetGrid at 0x7f92d5349580>"
      ]
     },
     "execution_count": 17,
     "metadata": {},
     "output_type": "execute_result"
    },
    {
     "data": {
      "text/plain": [
       "<seaborn.axisgrid.FacetGrid at 0x7f92d5349580>"
      ]
     },
     "execution_count": 17,
     "metadata": {},
     "output_type": "execute_result"
    },
    {
     "data": {
      "text/plain": [
       "<seaborn.axisgrid.FacetGrid at 0x7f92d5349580>"
      ]
     },
     "execution_count": 17,
     "metadata": {},
     "output_type": "execute_result"
    },
    {
     "data": {
      "image/png": "[encoded data removed]",
      "text/plain": [
       "<Figure size 1122.38x360 with 1 Axes>"
      ]
     },
     "metadata": {
      "needs_background": "light"
     },
     "output_type": "display_data"
    }
   ],
   "source": [
    "# Age distribution of customer who exited & retained\n",
    "\n",
    "facet = sns.FacetGrid(df, hue=\"Exited\", height=5, aspect=3)\n",
    "facet.map(sns.kdeplot,\"Age\",shade= True)\n",
    "facet.set(xlim=(0, df[\"Age\"].max()))\n",
    "facet.add_legend()\n",
    "\n",
    "plt.show()"
   ]
  },
  {
   "cell_type": "markdown",
   "id": "4fc1bd8a",
   "metadata": {
    "ExecuteTime": {
     "end_time": "2021-12-24T17:12:09.120659Z",
     "start_time": "2021-12-24T17:12:09.109683Z"
    }
   },
   "source": [
    "* Most of the customers who exited were between ***40 to 60*** years old\n",
    "* The retained customers are mostly between ***20 to 50*** years old"
   ]
  },
  {
   "cell_type": "code",
   "execution_count": 18,
   "id": "38f615d4",
   "metadata": {
    "ExecuteTime": {
     "end_time": "2021-12-26T10:37:32.054546Z",
     "start_time": "2021-12-26T10:37:31.504989Z"
    },
    "scrolled": false
   },
   "outputs": [
    {
     "data": {
      "text/plain": [
       "<seaborn.axisgrid.FacetGrid at 0x7f92d53a1e50>"
      ]
     },
     "execution_count": 18,
     "metadata": {},
     "output_type": "execute_result"
    },
    {
     "data": {
      "text/plain": [
       "<seaborn.axisgrid.FacetGrid at 0x7f92d53a1e50>"
      ]
     },
     "execution_count": 18,
     "metadata": {},
     "output_type": "execute_result"
    },
    {
     "data": {
      "text/plain": [
       "<seaborn.axisgrid.FacetGrid at 0x7f92d53a1e50>"
      ]
     },
     "execution_count": 18,
     "metadata": {},
     "output_type": "execute_result"
    },
    {
     "data": {
      "image/png": "[encoded data removed]",
      "text/plain": [
       "<Figure size 1122.38x360 with 1 Axes>"
      ]
     },
     "metadata": {
      "needs_background": "light"
     },
     "output_type": "display_data"
    }
   ],
   "source": [
    "# Balance distribution of customer who exited & retained\n",
    "\n",
    "facet = sns.FacetGrid(df, hue=\"Exited\", height=5, aspect=3)\n",
    "facet.map(sns.kdeplot,\"Balance\",shade= True)\n",
    "facet.set(xlim=(0, df[\"Balance\"].max()))\n",
    "facet.add_legend()\n",
    "\n",
    "plt.show()"
   ]
  },
  {
   "cell_type": "markdown",
   "id": "22906862",
   "metadata": {},
   "source": [
    "* Most of the customers who exited had balances of more than ***100k***\n",
    "* The bank has a high number of retained customers with zero balances in their account\n",
    "* These will impact the bank's capacity to lend as it is losing customers with high balances"
   ]
  },
  {
   "cell_type": "code",
   "execution_count": 19,
   "id": "2c623d62",
   "metadata": {
    "ExecuteTime": {
     "end_time": "2021-12-26T10:37:34.411161Z",
     "start_time": "2021-12-26T10:37:33.858046Z"
    },
    "scrolled": false
   },
   "outputs": [
    {
     "data": {
      "text/plain": [
       "<seaborn.axisgrid.FacetGrid at 0x7f92d537f8e0>"
      ]
     },
     "execution_count": 19,
     "metadata": {},
     "output_type": "execute_result"
    },
    {
     "data": {
      "text/plain": [
       "<seaborn.axisgrid.FacetGrid at 0x7f92d537f8e0>"
      ]
     },
     "execution_count": 19,
     "metadata": {},
     "output_type": "execute_result"
    },
    {
     "data": {
      "text/plain": [
       "<seaborn.axisgrid.FacetGrid at 0x7f92d537f8e0>"
      ]
     },
     "execution_count": 19,
     "metadata": {},
     "output_type": "execute_result"
    },
    {
     "data": {
      "image/png": "[encoded data removed]",
      "text/plain": [
       "<Figure size 1122.38x360 with 1 Axes>"
      ]
     },
     "metadata": {
      "needs_background": "light"
     },
     "output_type": "display_data"
    }
   ],
   "source": [
    "# Credit Score distribution of customer who exited & retained\n",
    "\n",
    "facet = sns.FacetGrid(df, hue=\"Exited\", height=5, aspect=3)\n",
    "facet.map(sns.kdeplot,\"CreditScore\",shade= True)\n",
    "facet.set(xlim=(0, df[\"CreditScore\"].max()))\n",
    "facet.add_legend()\n",
    "\n",
    "plt.show()"
   ]
  },
  {
   "cell_type": "markdown",
   "id": "045faca4",
   "metadata": {},
   "source": [
    "* Credit Score distribution looks normal."
   ]
  },
  {
   "cell_type": "code",
   "execution_count": 20,
   "id": "f0ae6b40",
   "metadata": {
    "ExecuteTime": {
     "end_time": "2021-12-26T10:37:36.704255Z",
     "start_time": "2021-12-26T10:37:36.675472Z"
    }
   },
   "outputs": [],
   "source": [
    "# One Hot Encoding of Geography and Gender into numerical values to define correlation of attributes\n",
    "cate_list = ['Geography', 'Gender']\n",
    "df1 = pd.get_dummies(df, columns = cate_list, prefix = cate_list)"
   ]
  },
  {
   "cell_type": "code",
   "execution_count": 21,
   "id": "a4963abe",
   "metadata": {
    "ExecuteTime": {
     "end_time": "2021-12-26T10:37:39.427321Z",
     "start_time": "2021-12-26T10:37:39.401798Z"
    }
   },
   "outputs": [
    {
     "data": {
      "text/html": [
       "<div>\n",
       "<style scoped>\n",
       "    .dataframe tbody tr th:only-of-type {\n",
       "        vertical-align: middle;\n",
       "    }\n",
       "\n",
       "    .dataframe tbody tr th {\n",
       "        vertical-align: top;\n",
       "    }\n",
       "\n",
       "    .dataframe thead th {\n",
       "        text-align: right;\n",
       "    }\n",
       "</style>\n",
       "<table border=\"1\" class=\"dataframe\">\n",
       "  <thead>\n",
       "    <tr style=\"text-align: right;\">\n",
       "      <th></th>\n",
       "      <th>CreditScore</th>\n",
       "      <th>Age</th>\n",
       "      <th>Tenure</th>\n",
       "      <th>Balance</th>\n",
       "      <th>NumOfProducts</th>\n",
       "      <th>HasCrCard</th>\n",
       "      <th>IsActiveMember</th>\n",
       "      <th>EstimatedSalary</th>\n",
       "      <th>Exited</th>\n",
       "      <th>Geography_France</th>\n",
       "      <th>Geography_Germany</th>\n",
       "      <th>Geography_Spain</th>\n",
       "      <th>Gender_Female</th>\n",
       "      <th>Gender_Male</th>\n",
       "    </tr>\n",
       "  </thead>\n",
       "  <tbody>\n",
       "    <tr>\n",
       "      <th>0</th>\n",
       "      <td>619</td>\n",
       "      <td>42</td>\n",
       "      <td>2</td>\n",
       "      <td>0.00</td>\n",
       "      <td>1</td>\n",
       "      <td>1</td>\n",
       "      <td>1</td>\n",
       "      <td>101348.88</td>\n",
       "      <td>1</td>\n",
       "      <td>1</td>\n",
       "      <td>0</td>\n",
       "      <td>0</td>\n",
       "      <td>1</td>\n",
       "      <td>0</td>\n",
       "    </tr>\n",
       "    <tr>\n",
       "      <th>1</th>\n",
       "      <td>608</td>\n",
       "      <td>41</td>\n",
       "      <td>1</td>\n",
       "      <td>83807.86</td>\n",
       "      <td>1</td>\n",
       "      <td>0</td>\n",
       "      <td>1</td>\n",
       "      <td>112542.58</td>\n",
       "      <td>0</td>\n",
       "      <td>0</td>\n",
       "      <td>0</td>\n",
       "      <td>1</td>\n",
       "      <td>1</td>\n",
       "      <td>0</td>\n",
       "    </tr>\n",
       "    <tr>\n",
       "      <th>2</th>\n",
       "      <td>502</td>\n",
       "      <td>42</td>\n",
       "      <td>8</td>\n",
       "      <td>159660.80</td>\n",
       "      <td>3</td>\n",
       "      <td>1</td>\n",
       "      <td>0</td>\n",
       "      <td>113931.57</td>\n",
       "      <td>1</td>\n",
       "      <td>1</td>\n",
       "      <td>0</td>\n",
       "      <td>0</td>\n",
       "      <td>1</td>\n",
       "      <td>0</td>\n",
       "    </tr>\n",
       "    <tr>\n",
       "      <th>3</th>\n",
       "      <td>699</td>\n",
       "      <td>39</td>\n",
       "      <td>1</td>\n",
       "      <td>0.00</td>\n",
       "      <td>2</td>\n",
       "      <td>0</td>\n",
       "      <td>0</td>\n",
       "      <td>93826.63</td>\n",
       "      <td>0</td>\n",
       "      <td>1</td>\n",
       "      <td>0</td>\n",
       "      <td>0</td>\n",
       "      <td>1</td>\n",
       "      <td>0</td>\n",
       "    </tr>\n",
       "    <tr>\n",
       "      <th>4</th>\n",
       "      <td>850</td>\n",
       "      <td>43</td>\n",
       "      <td>2</td>\n",
       "      <td>125510.82</td>\n",
       "      <td>1</td>\n",
       "      <td>1</td>\n",
       "      <td>1</td>\n",
       "      <td>79084.10</td>\n",
       "      <td>0</td>\n",
       "      <td>0</td>\n",
       "      <td>0</td>\n",
       "      <td>1</td>\n",
       "      <td>1</td>\n",
       "      <td>0</td>\n",
       "    </tr>\n",
       "  </tbody>\n",
       "</table>\n",
       "</div>"
      ],
      "text/plain": [
       "   CreditScore  Age  Tenure    Balance  NumOfProducts  HasCrCard  \\\n",
       "0          619   42       2       0.00              1          1   \n",
       "1          608   41       1   83807.86              1          0   \n",
       "2          502   42       8  159660.80              3          1   \n",
       "3          699   39       1       0.00              2          0   \n",
       "4          850   43       2  125510.82              1          1   \n",
       "\n",
       "   IsActiveMember  EstimatedSalary  Exited  Geography_France  \\\n",
       "0               1        101348.88       1                 1   \n",
       "1               1        112542.58       0                 0   \n",
       "2               0        113931.57       1                 1   \n",
       "3               0         93826.63       0                 1   \n",
       "4               1         79084.10       0                 0   \n",
       "\n",
       "   Geography_Germany  Geography_Spain  Gender_Female  Gender_Male  \n",
       "0                  0                0              1            0  \n",
       "1                  0                1              1            0  \n",
       "2                  0                0              1            0  \n",
       "3                  0                0              1            0  \n",
       "4                  0                1              1            0  "
      ]
     },
     "execution_count": 21,
     "metadata": {},
     "output_type": "execute_result"
    }
   ],
   "source": [
    "df1.head()"
   ]
  },
  {
   "cell_type": "code",
   "execution_count": 22,
   "id": "6d145729",
   "metadata": {
    "ExecuteTime": {
     "end_time": "2021-12-26T10:37:43.940418Z",
     "start_time": "2021-12-26T10:37:42.395891Z"
    }
   },
   "outputs": [
    {
     "data": {
      "text/plain": [
       "<Figure size 1080x576 with 0 Axes>"
      ]
     },
     "execution_count": 22,
     "metadata": {},
     "output_type": "execute_result"
    },
    {
     "data": {
      "text/plain": [
       "<AxesSubplot:>"
      ]
     },
     "execution_count": 22,
     "metadata": {},
     "output_type": "execute_result"
    },
    {
     "data": {
      "image/png": "[encoded data removed]",
      "text/plain": [
       "<Figure size 1080x576 with 2 Axes>"
      ]
     },
     "metadata": {
      "needs_background": "light"
     },
     "output_type": "display_data"
    }
   ],
   "source": [
    "# Heatmap showing correlation values between variables\n",
    "corr = df1.corr()\n",
    "\n",
    "plt.figure(figsize=(15,8))\n",
    "sns.heatmap(corr, annot=True)\n",
    "plt.show()"
   ]
  },
  {
   "cell_type": "markdown",
   "id": "ad3be8a4",
   "metadata": {},
   "source": [
    "* From the correlation matrix, it is observed that the variables that have high correlation with churn are: \n",
    "    * Age\n",
    "    * Balance\n",
    "    * EstimatedSalary\n",
    "    * Geography_Germany\n",
    "    * Gender_Female"
   ]
  },
  {
   "cell_type": "markdown",
   "id": "5e9fc856",
   "metadata": {},
   "source": [
    "### Detecting Outliers"
   ]
  },
  {
   "cell_type": "code",
   "execution_count": 23,
   "id": "9e165a56",
   "metadata": {
    "ExecuteTime": {
     "end_time": "2021-12-26T10:37:47.498208Z",
     "start_time": "2021-12-26T10:37:47.263338Z"
    },
    "scrolled": false
   },
   "outputs": [
    {
     "data": {
      "image/png": "[encoded data removed]",
      "text/plain": [
       "<Figure size 432x288 with 1 Axes>"
      ]
     },
     "metadata": {
      "needs_background": "light"
     },
     "output_type": "display_data"
    }
   ],
   "source": [
    "boxplot = df1.boxplot(column=['CreditScore'])"
   ]
  },
  {
   "cell_type": "markdown",
   "id": "d072c6e2",
   "metadata": {},
   "source": [
    "There are no values that are too faraway from the min and max value."
   ]
  },
  {
   "cell_type": "code",
   "execution_count": 24,
   "id": "fdde8ec7",
   "metadata": {
    "ExecuteTime": {
     "end_time": "2021-12-26T10:37:51.148722Z",
     "start_time": "2021-12-26T10:37:50.956068Z"
    }
   },
   "outputs": [
    {
     "data": {
      "image/png": "[encoded data removed]",
      "text/plain": [
       "<Figure size 432x288 with 1 Axes>"
      ]
     },
     "metadata": {
      "needs_background": "light"
     },
     "output_type": "display_data"
    }
   ],
   "source": [
    "boxplot = df1.boxplot(column=['Age'])"
   ]
  },
  {
   "cell_type": "markdown",
   "id": "7ef6dd27",
   "metadata": {
    "ExecuteTime": {
     "end_time": "2021-12-25T07:24:10.479875Z",
     "start_time": "2021-12-25T07:24:10.451421Z"
    }
   },
   "source": [
    "There are a few outliers as seen from the extreme values for the age boxplot. "
   ]
  },
  {
   "cell_type": "code",
   "execution_count": 25,
   "id": "3fe5874d",
   "metadata": {
    "ExecuteTime": {
     "end_time": "2021-12-26T10:37:58.955026Z",
     "start_time": "2021-12-26T10:37:58.947094Z"
    }
   },
   "outputs": [],
   "source": [
    "# Replacing outliers with median.\n",
    "\n",
    "median = df1.loc[df1['Age']<85, 'Age'].median()\n",
    "df1[\"Age\"] = np.where(df1[\"Age\"] >85, median,df1['Age'])"
   ]
  },
  {
   "cell_type": "code",
   "execution_count": 26,
   "id": "e3e4cdc8",
   "metadata": {
    "ExecuteTime": {
     "end_time": "2021-12-26T10:38:01.387736Z",
     "start_time": "2021-12-26T10:38:01.254962Z"
    }
   },
   "outputs": [
    {
     "data": {
      "text/html": [
       "<div>\n",
       "<style scoped>\n",
       "    .dataframe tbody tr th:only-of-type {\n",
       "        vertical-align: middle;\n",
       "    }\n",
       "\n",
       "    .dataframe tbody tr th {\n",
       "        vertical-align: top;\n",
       "    }\n",
       "\n",
       "    .dataframe thead th {\n",
       "        text-align: right;\n",
       "    }\n",
       "</style>\n",
       "<table border=\"1\" class=\"dataframe\">\n",
       "  <thead>\n",
       "    <tr style=\"text-align: right;\">\n",
       "      <th></th>\n",
       "      <th>CreditScore</th>\n",
       "      <th>Age</th>\n",
       "      <th>Tenure</th>\n",
       "      <th>Balance</th>\n",
       "      <th>NumOfProducts</th>\n",
       "      <th>HasCrCard</th>\n",
       "      <th>IsActiveMember</th>\n",
       "      <th>EstimatedSalary</th>\n",
       "      <th>Exited</th>\n",
       "      <th>Geography_France</th>\n",
       "      <th>Geography_Germany</th>\n",
       "      <th>Geography_Spain</th>\n",
       "      <th>Gender_Female</th>\n",
       "      <th>Gender_Male</th>\n",
       "    </tr>\n",
       "  </thead>\n",
       "  <tbody>\n",
       "    <tr>\n",
       "      <th>count</th>\n",
       "      <td>10000.000000</td>\n",
       "      <td>10000.000000</td>\n",
       "      <td>10000.000000</td>\n",
       "      <td>10000.000000</td>\n",
       "      <td>10000.000000</td>\n",
       "      <td>10000.00000</td>\n",
       "      <td>10000.000000</td>\n",
       "      <td>10000.000000</td>\n",
       "      <td>10000.000000</td>\n",
       "      <td>10000.000000</td>\n",
       "      <td>10000.000000</td>\n",
       "      <td>10000.000000</td>\n",
       "      <td>10000.000000</td>\n",
       "      <td>10000.000000</td>\n",
       "    </tr>\n",
       "    <tr>\n",
       "      <th>mean</th>\n",
       "      <td>650.528800</td>\n",
       "      <td>38.905700</td>\n",
       "      <td>5.012800</td>\n",
       "      <td>76485.889288</td>\n",
       "      <td>1.530200</td>\n",
       "      <td>0.70550</td>\n",
       "      <td>0.515100</td>\n",
       "      <td>100090.239881</td>\n",
       "      <td>0.203700</td>\n",
       "      <td>0.501400</td>\n",
       "      <td>0.250900</td>\n",
       "      <td>0.247700</td>\n",
       "      <td>0.454300</td>\n",
       "      <td>0.545700</td>\n",
       "    </tr>\n",
       "    <tr>\n",
       "      <th>std</th>\n",
       "      <td>96.653299</td>\n",
       "      <td>10.449427</td>\n",
       "      <td>2.892174</td>\n",
       "      <td>62397.405202</td>\n",
       "      <td>0.581654</td>\n",
       "      <td>0.45584</td>\n",
       "      <td>0.499797</td>\n",
       "      <td>57510.492818</td>\n",
       "      <td>0.402769</td>\n",
       "      <td>0.500023</td>\n",
       "      <td>0.433553</td>\n",
       "      <td>0.431698</td>\n",
       "      <td>0.497932</td>\n",
       "      <td>0.497932</td>\n",
       "    </tr>\n",
       "    <tr>\n",
       "      <th>min</th>\n",
       "      <td>350.000000</td>\n",
       "      <td>18.000000</td>\n",
       "      <td>0.000000</td>\n",
       "      <td>0.000000</td>\n",
       "      <td>1.000000</td>\n",
       "      <td>0.00000</td>\n",
       "      <td>0.000000</td>\n",
       "      <td>11.580000</td>\n",
       "      <td>0.000000</td>\n",
       "      <td>0.000000</td>\n",
       "      <td>0.000000</td>\n",
       "      <td>0.000000</td>\n",
       "      <td>0.000000</td>\n",
       "      <td>0.000000</td>\n",
       "    </tr>\n",
       "    <tr>\n",
       "      <th>25%</th>\n",
       "      <td>584.000000</td>\n",
       "      <td>32.000000</td>\n",
       "      <td>3.000000</td>\n",
       "      <td>0.000000</td>\n",
       "      <td>1.000000</td>\n",
       "      <td>0.00000</td>\n",
       "      <td>0.000000</td>\n",
       "      <td>51002.110000</td>\n",
       "      <td>0.000000</td>\n",
       "      <td>0.000000</td>\n",
       "      <td>0.000000</td>\n",
       "      <td>0.000000</td>\n",
       "      <td>0.000000</td>\n",
       "      <td>0.000000</td>\n",
       "    </tr>\n",
       "    <tr>\n",
       "      <th>50%</th>\n",
       "      <td>652.000000</td>\n",
       "      <td>37.000000</td>\n",
       "      <td>5.000000</td>\n",
       "      <td>97198.540000</td>\n",
       "      <td>1.000000</td>\n",
       "      <td>1.00000</td>\n",
       "      <td>1.000000</td>\n",
       "      <td>100193.915000</td>\n",
       "      <td>0.000000</td>\n",
       "      <td>1.000000</td>\n",
       "      <td>0.000000</td>\n",
       "      <td>0.000000</td>\n",
       "      <td>0.000000</td>\n",
       "      <td>1.000000</td>\n",
       "    </tr>\n",
       "    <tr>\n",
       "      <th>75%</th>\n",
       "      <td>718.000000</td>\n",
       "      <td>44.000000</td>\n",
       "      <td>7.000000</td>\n",
       "      <td>127644.240000</td>\n",
       "      <td>2.000000</td>\n",
       "      <td>1.00000</td>\n",
       "      <td>1.000000</td>\n",
       "      <td>149388.247500</td>\n",
       "      <td>0.000000</td>\n",
       "      <td>1.000000</td>\n",
       "      <td>1.000000</td>\n",
       "      <td>0.000000</td>\n",
       "      <td>1.000000</td>\n",
       "      <td>1.000000</td>\n",
       "    </tr>\n",
       "    <tr>\n",
       "      <th>max</th>\n",
       "      <td>850.000000</td>\n",
       "      <td>85.000000</td>\n",
       "      <td>10.000000</td>\n",
       "      <td>250898.090000</td>\n",
       "      <td>4.000000</td>\n",
       "      <td>1.00000</td>\n",
       "      <td>1.000000</td>\n",
       "      <td>199992.480000</td>\n",
       "      <td>1.000000</td>\n",
       "      <td>1.000000</td>\n",
       "      <td>1.000000</td>\n",
       "      <td>1.000000</td>\n",
       "      <td>1.000000</td>\n",
       "      <td>1.000000</td>\n",
       "    </tr>\n",
       "  </tbody>\n",
       "</table>\n",
       "</div>"
      ],
      "text/plain": [
       "        CreditScore           Age        Tenure        Balance  NumOfProducts  \\\n",
       "count  10000.000000  10000.000000  10000.000000   10000.000000   10000.000000   \n",
       "mean     650.528800     38.905700      5.012800   76485.889288       1.530200   \n",
       "std       96.653299     10.449427      2.892174   62397.405202       0.581654   \n",
       "min      350.000000     18.000000      0.000000       0.000000       1.000000   \n",
       "25%      584.000000     32.000000      3.000000       0.000000       1.000000   \n",
       "50%      652.000000     37.000000      5.000000   97198.540000       1.000000   \n",
       "75%      718.000000     44.000000      7.000000  127644.240000       2.000000   \n",
       "max      850.000000     85.000000     10.000000  250898.090000       4.000000   \n",
       "\n",
       "         HasCrCard  IsActiveMember  EstimatedSalary        Exited  \\\n",
       "count  10000.00000    10000.000000     10000.000000  10000.000000   \n",
       "mean       0.70550        0.515100    100090.239881      0.203700   \n",
       "std        0.45584        0.499797     57510.492818      0.402769   \n",
       "min        0.00000        0.000000        11.580000      0.000000   \n",
       "25%        0.00000        0.000000     51002.110000      0.000000   \n",
       "50%        1.00000        1.000000    100193.915000      0.000000   \n",
       "75%        1.00000        1.000000    149388.247500      0.000000   \n",
       "max        1.00000        1.000000    199992.480000      1.000000   \n",
       "\n",
       "       Geography_France  Geography_Germany  Geography_Spain  Gender_Female  \\\n",
       "count      10000.000000       10000.000000     10000.000000   10000.000000   \n",
       "mean           0.501400           0.250900         0.247700       0.454300   \n",
       "std            0.500023           0.433553         0.431698       0.497932   \n",
       "min            0.000000           0.000000         0.000000       0.000000   \n",
       "25%            0.000000           0.000000         0.000000       0.000000   \n",
       "50%            1.000000           0.000000         0.000000       0.000000   \n",
       "75%            1.000000           1.000000         0.000000       1.000000   \n",
       "max            1.000000           1.000000         1.000000       1.000000   \n",
       "\n",
       "        Gender_Male  \n",
       "count  10000.000000  \n",
       "mean       0.545700  \n",
       "std        0.497932  \n",
       "min        0.000000  \n",
       "25%        0.000000  \n",
       "50%        1.000000  \n",
       "75%        1.000000  \n",
       "max        1.000000  "
      ]
     },
     "execution_count": 26,
     "metadata": {},
     "output_type": "execute_result"
    }
   ],
   "source": [
    "# Max value of Age is now 85.\n",
    "\n",
    "df1.describe()"
   ]
  },
  {
   "cell_type": "code",
   "execution_count": 22,
   "id": "1d7b0650",
   "metadata": {
    "ExecuteTime": {
     "end_time": "2021-12-26T08:52:16.690770Z",
     "start_time": "2021-12-26T08:52:16.491197Z"
    }
   },
   "outputs": [
    {
     "data": {
      "image/png": "[encoded data removed]",
      "text/plain": [
       "<Figure size 432x288 with 1 Axes>"
      ]
     },
     "metadata": {
      "needs_background": "light"
     },
     "output_type": "display_data"
    }
   ],
   "source": [
    "boxplot = df1.boxplot(column=['Balance', 'EstimatedSalary'])"
   ]
  },
  {
   "cell_type": "markdown",
   "id": "0e04925a",
   "metadata": {},
   "source": [
    "The Balance and Estimated Salary box plots are normal."
   ]
  },
  {
   "cell_type": "markdown",
   "id": "08dd5768",
   "metadata": {},
   "source": [
    "## Split, Train and Test Data for Model Fitting"
   ]
  },
  {
   "cell_type": "code",
   "execution_count": 27,
   "id": "e4f785b6",
   "metadata": {
    "ExecuteTime": {
     "end_time": "2021-12-26T10:38:07.954081Z",
     "start_time": "2021-12-26T10:38:07.914989Z"
    }
   },
   "outputs": [
    {
     "name": "stdout",
     "output_type": "stream",
     "text": [
      "      CreditScore   Age  Tenure    Balance  NumOfProducts  HasCrCard  \\\n",
      "2967          579  39.0       5  117833.30              3          0   \n",
      "700           750  32.0       5       0.00              2          1   \n",
      "3481          729  34.0       9   53299.96              2          1   \n",
      "1621          689  38.0       5   75075.14              1          1   \n",
      "800           605  52.0       7       0.00              2          1   \n",
      "...           ...   ...     ...        ...            ...        ...   \n",
      "9225          594  32.0       4  120074.97              2          1   \n",
      "4859          794  22.0       4  114440.24              1          1   \n",
      "3264          738  35.0       5  161274.05              2          1   \n",
      "9845          590  38.0       9       0.00              2          1   \n",
      "2732          623  48.0       1  108076.33              1          1   \n",
      "\n",
      "      IsActiveMember  EstimatedSalary  Geography_France  Geography_Germany  \\\n",
      "2967               0          5831.00                 0                  1   \n",
      "700                0         95611.47                 1                  0   \n",
      "3481               1         42855.97                 0                  0   \n",
      "1621               1          8651.92                 0                  0   \n",
      "800                1        173952.50                 1                  0   \n",
      "...              ...              ...               ...                ...   \n",
      "9225               1        162961.79                 0                  1   \n",
      "4859               1        107753.07                 0                  0   \n",
      "3264               0        181429.87                 1                  0   \n",
      "9845               1        148750.16                 0                  0   \n",
      "2732               0        118855.26                 0                  1   \n",
      "\n",
      "      Geography_Spain  Gender_Female  Gender_Male  \n",
      "2967                0              1            0  \n",
      "700                 0              1            0  \n",
      "3481                1              1            0  \n",
      "1621                1              0            1  \n",
      "800                 0              0            1  \n",
      "...               ...            ...          ...  \n",
      "9225                0              1            0  \n",
      "4859                1              1            0  \n",
      "3264                0              0            1  \n",
      "9845                1              1            0  \n",
      "2732                0              1            0  \n",
      "\n",
      "[7500 rows x 13 columns]\n",
      "      CreditScore   Age  Tenure    Balance  NumOfProducts  HasCrCard  \\\n",
      "9394          597  35.0       8  131101.04              1          1   \n",
      "898           523  40.0       2  102967.41              1          1   \n",
      "2398          706  42.0       8   95386.82              1          1   \n",
      "5906          788  32.0       4  112079.58              1          0   \n",
      "2343          706  38.0       5  163034.82              2          1   \n",
      "...           ...   ...     ...        ...            ...        ...   \n",
      "8764          773  51.0       8  116197.65              2          1   \n",
      "4359          545  44.0       2  127536.44              1          1   \n",
      "2041          840  39.0       1   94968.97              1          1   \n",
      "1108          679  38.0       7  110555.37              2          1   \n",
      "3332          735  31.0       3  119558.35              1          0   \n",
      "\n",
      "      IsActiveMember  EstimatedSalary  Geography_France  Geography_Germany  \\\n",
      "9394               1        192852.67                 0                  1   \n",
      "898                0        128702.10                 1                  0   \n",
      "2398               1         75732.25                 0                  0   \n",
      "5906               0         89368.59                 1                  0   \n",
      "2343               1        135662.17                 0                  1   \n",
      "...              ...              ...               ...                ...   \n",
      "8764               1         86701.40                 0                  1   \n",
      "4359               0        108398.63                 0                  1   \n",
      "2041               0         84487.62                 1                  0   \n",
      "1108               0         46522.68                 0                  1   \n",
      "3332               0         72927.68                 1                  0   \n",
      "\n",
      "      Geography_Spain  Gender_Female  Gender_Male  \n",
      "9394                0              1            0  \n",
      "898                 0              1            0  \n",
      "2398                1              1            0  \n",
      "5906                0              0            1  \n",
      "2343                0              0            1  \n",
      "...               ...            ...          ...  \n",
      "8764                0              0            1  \n",
      "4359                0              1            0  \n",
      "2041                0              1            0  \n",
      "1108                0              0            1  \n",
      "3332                0              0            1  \n",
      "\n",
      "[2500 rows x 13 columns]\n",
      "2967    1\n",
      "700     0\n",
      "3481    0\n",
      "1621    1\n",
      "800     0\n",
      "       ..\n",
      "9225    0\n",
      "4859    0\n",
      "3264    0\n",
      "9845    0\n",
      "2732    1\n",
      "Name: Exited, Length: 7500, dtype: int64\n",
      "9394    0\n",
      "898     1\n",
      "2398    0\n",
      "5906    0\n",
      "2343    0\n",
      "       ..\n",
      "8764    0\n",
      "4359    0\n",
      "2041    0\n",
      "1108    0\n",
      "3332    0\n",
      "Name: Exited, Length: 2500, dtype: int64\n"
     ]
    }
   ],
   "source": [
    "# Split dataset into Training set and Testing sets\n",
    "\n",
    "X = df1.drop(\"Exited\", axis=1)\n",
    "y = df1[\"Exited\"]\n",
    "\n",
    "X_train, X_test, y_train, y_test = train_test_split(X, y, random_state=0)\n",
    "\n",
    "print(X_train)\n",
    "print(X_test)\n",
    "print(y_train)\n",
    "print(y_test)"
   ]
  },
  {
   "cell_type": "markdown",
   "id": "71a9bdcc",
   "metadata": {},
   "source": [
    "### Feature Scaling"
   ]
  },
  {
   "cell_type": "code",
   "execution_count": 28,
   "id": "761e0763",
   "metadata": {
    "ExecuteTime": {
     "end_time": "2021-12-26T10:38:10.317335Z",
     "start_time": "2021-12-26T10:38:10.294855Z"
    }
   },
   "outputs": [
    {
     "data": {
      "text/plain": [
       "MinMaxScaler()"
      ]
     },
     "execution_count": 28,
     "metadata": {},
     "output_type": "execute_result"
    }
   ],
   "source": [
    "from sklearn.preprocessing import MinMaxScaler\n",
    "features = X.columns.values\n",
    "scaler = MinMaxScaler(feature_range = (0,1))\n",
    "scaler.fit(X)\n",
    "X = pd.DataFrame(scaler.transform(X))\n",
    "X.columns = features"
   ]
  },
  {
   "cell_type": "code",
   "execution_count": 29,
   "id": "67eb810a",
   "metadata": {
    "ExecuteTime": {
     "end_time": "2021-12-26T10:38:13.230289Z",
     "start_time": "2021-12-26T10:38:13.193632Z"
    }
   },
   "outputs": [
    {
     "data": {
      "text/html": [
       "<div>\n",
       "<style scoped>\n",
       "    .dataframe tbody tr th:only-of-type {\n",
       "        vertical-align: middle;\n",
       "    }\n",
       "\n",
       "    .dataframe tbody tr th {\n",
       "        vertical-align: top;\n",
       "    }\n",
       "\n",
       "    .dataframe thead th {\n",
       "        text-align: right;\n",
       "    }\n",
       "</style>\n",
       "<table border=\"1\" class=\"dataframe\">\n",
       "  <thead>\n",
       "    <tr style=\"text-align: right;\">\n",
       "      <th></th>\n",
       "      <th>CreditScore</th>\n",
       "      <th>Age</th>\n",
       "      <th>Tenure</th>\n",
       "      <th>Balance</th>\n",
       "      <th>NumOfProducts</th>\n",
       "      <th>HasCrCard</th>\n",
       "      <th>IsActiveMember</th>\n",
       "      <th>EstimatedSalary</th>\n",
       "      <th>Geography_France</th>\n",
       "      <th>Geography_Germany</th>\n",
       "      <th>Geography_Spain</th>\n",
       "      <th>Gender_Female</th>\n",
       "      <th>Gender_Male</th>\n",
       "    </tr>\n",
       "  </thead>\n",
       "  <tbody>\n",
       "    <tr>\n",
       "      <th>0</th>\n",
       "      <td>0.538</td>\n",
       "      <td>0.358209</td>\n",
       "      <td>0.2</td>\n",
       "      <td>0.000000</td>\n",
       "      <td>0.000000</td>\n",
       "      <td>1.0</td>\n",
       "      <td>1.0</td>\n",
       "      <td>0.506735</td>\n",
       "      <td>1.0</td>\n",
       "      <td>0.0</td>\n",
       "      <td>0.0</td>\n",
       "      <td>1.0</td>\n",
       "      <td>0.0</td>\n",
       "    </tr>\n",
       "    <tr>\n",
       "      <th>1</th>\n",
       "      <td>0.516</td>\n",
       "      <td>0.343284</td>\n",
       "      <td>0.1</td>\n",
       "      <td>0.334031</td>\n",
       "      <td>0.000000</td>\n",
       "      <td>0.0</td>\n",
       "      <td>1.0</td>\n",
       "      <td>0.562709</td>\n",
       "      <td>0.0</td>\n",
       "      <td>0.0</td>\n",
       "      <td>1.0</td>\n",
       "      <td>1.0</td>\n",
       "      <td>0.0</td>\n",
       "    </tr>\n",
       "    <tr>\n",
       "      <th>2</th>\n",
       "      <td>0.304</td>\n",
       "      <td>0.358209</td>\n",
       "      <td>0.8</td>\n",
       "      <td>0.636357</td>\n",
       "      <td>0.666667</td>\n",
       "      <td>1.0</td>\n",
       "      <td>0.0</td>\n",
       "      <td>0.569654</td>\n",
       "      <td>1.0</td>\n",
       "      <td>0.0</td>\n",
       "      <td>0.0</td>\n",
       "      <td>1.0</td>\n",
       "      <td>0.0</td>\n",
       "    </tr>\n",
       "    <tr>\n",
       "      <th>3</th>\n",
       "      <td>0.698</td>\n",
       "      <td>0.313433</td>\n",
       "      <td>0.1</td>\n",
       "      <td>0.000000</td>\n",
       "      <td>0.333333</td>\n",
       "      <td>0.0</td>\n",
       "      <td>0.0</td>\n",
       "      <td>0.469120</td>\n",
       "      <td>1.0</td>\n",
       "      <td>0.0</td>\n",
       "      <td>0.0</td>\n",
       "      <td>1.0</td>\n",
       "      <td>0.0</td>\n",
       "    </tr>\n",
       "    <tr>\n",
       "      <th>4</th>\n",
       "      <td>1.000</td>\n",
       "      <td>0.373134</td>\n",
       "      <td>0.2</td>\n",
       "      <td>0.500246</td>\n",
       "      <td>0.000000</td>\n",
       "      <td>1.0</td>\n",
       "      <td>1.0</td>\n",
       "      <td>0.395400</td>\n",
       "      <td>0.0</td>\n",
       "      <td>0.0</td>\n",
       "      <td>1.0</td>\n",
       "      <td>1.0</td>\n",
       "      <td>0.0</td>\n",
       "    </tr>\n",
       "    <tr>\n",
       "      <th>...</th>\n",
       "      <td>...</td>\n",
       "      <td>...</td>\n",
       "      <td>...</td>\n",
       "      <td>...</td>\n",
       "      <td>...</td>\n",
       "      <td>...</td>\n",
       "      <td>...</td>\n",
       "      <td>...</td>\n",
       "      <td>...</td>\n",
       "      <td>...</td>\n",
       "      <td>...</td>\n",
       "      <td>...</td>\n",
       "      <td>...</td>\n",
       "    </tr>\n",
       "    <tr>\n",
       "      <th>9995</th>\n",
       "      <td>0.842</td>\n",
       "      <td>0.313433</td>\n",
       "      <td>0.5</td>\n",
       "      <td>0.000000</td>\n",
       "      <td>0.333333</td>\n",
       "      <td>1.0</td>\n",
       "      <td>0.0</td>\n",
       "      <td>0.481341</td>\n",
       "      <td>1.0</td>\n",
       "      <td>0.0</td>\n",
       "      <td>0.0</td>\n",
       "      <td>0.0</td>\n",
       "      <td>1.0</td>\n",
       "    </tr>\n",
       "    <tr>\n",
       "      <th>9996</th>\n",
       "      <td>0.332</td>\n",
       "      <td>0.253731</td>\n",
       "      <td>1.0</td>\n",
       "      <td>0.228657</td>\n",
       "      <td>0.000000</td>\n",
       "      <td>1.0</td>\n",
       "      <td>1.0</td>\n",
       "      <td>0.508490</td>\n",
       "      <td>1.0</td>\n",
       "      <td>0.0</td>\n",
       "      <td>0.0</td>\n",
       "      <td>0.0</td>\n",
       "      <td>1.0</td>\n",
       "    </tr>\n",
       "    <tr>\n",
       "      <th>9997</th>\n",
       "      <td>0.718</td>\n",
       "      <td>0.268657</td>\n",
       "      <td>0.7</td>\n",
       "      <td>0.000000</td>\n",
       "      <td>0.000000</td>\n",
       "      <td>0.0</td>\n",
       "      <td>1.0</td>\n",
       "      <td>0.210390</td>\n",
       "      <td>1.0</td>\n",
       "      <td>0.0</td>\n",
       "      <td>0.0</td>\n",
       "      <td>1.0</td>\n",
       "      <td>0.0</td>\n",
       "    </tr>\n",
       "    <tr>\n",
       "      <th>9998</th>\n",
       "      <td>0.844</td>\n",
       "      <td>0.358209</td>\n",
       "      <td>0.3</td>\n",
       "      <td>0.299226</td>\n",
       "      <td>0.333333</td>\n",
       "      <td>1.0</td>\n",
       "      <td>0.0</td>\n",
       "      <td>0.464429</td>\n",
       "      <td>0.0</td>\n",
       "      <td>1.0</td>\n",
       "      <td>0.0</td>\n",
       "      <td>0.0</td>\n",
       "      <td>1.0</td>\n",
       "    </tr>\n",
       "    <tr>\n",
       "      <th>9999</th>\n",
       "      <td>0.884</td>\n",
       "      <td>0.149254</td>\n",
       "      <td>0.4</td>\n",
       "      <td>0.518708</td>\n",
       "      <td>0.000000</td>\n",
       "      <td>1.0</td>\n",
       "      <td>0.0</td>\n",
       "      <td>0.190914</td>\n",
       "      <td>1.0</td>\n",
       "      <td>0.0</td>\n",
       "      <td>0.0</td>\n",
       "      <td>1.0</td>\n",
       "      <td>0.0</td>\n",
       "    </tr>\n",
       "  </tbody>\n",
       "</table>\n",
       "<p>10000 rows × 13 columns</p>\n",
       "</div>"
      ],
      "text/plain": [
       "      CreditScore       Age  Tenure   Balance  NumOfProducts  HasCrCard  \\\n",
       "0           0.538  0.358209     0.2  0.000000       0.000000        1.0   \n",
       "1           0.516  0.343284     0.1  0.334031       0.000000        0.0   \n",
       "2           0.304  0.358209     0.8  0.636357       0.666667        1.0   \n",
       "3           0.698  0.313433     0.1  0.000000       0.333333        0.0   \n",
       "4           1.000  0.373134     0.2  0.500246       0.000000        1.0   \n",
       "...           ...       ...     ...       ...            ...        ...   \n",
       "9995        0.842  0.313433     0.5  0.000000       0.333333        1.0   \n",
       "9996        0.332  0.253731     1.0  0.228657       0.000000        1.0   \n",
       "9997        0.718  0.268657     0.7  0.000000       0.000000        0.0   \n",
       "9998        0.844  0.358209     0.3  0.299226       0.333333        1.0   \n",
       "9999        0.884  0.149254     0.4  0.518708       0.000000        1.0   \n",
       "\n",
       "      IsActiveMember  EstimatedSalary  Geography_France  Geography_Germany  \\\n",
       "0                1.0         0.506735               1.0                0.0   \n",
       "1                1.0         0.562709               0.0                0.0   \n",
       "2                0.0         0.569654               1.0                0.0   \n",
       "3                0.0         0.469120               1.0                0.0   \n",
       "4                1.0         0.395400               0.0                0.0   \n",
       "...              ...              ...               ...                ...   \n",
       "9995             0.0         0.481341               1.0                0.0   \n",
       "9996             1.0         0.508490               1.0                0.0   \n",
       "9997             1.0         0.210390               1.0                0.0   \n",
       "9998             0.0         0.464429               0.0                1.0   \n",
       "9999             0.0         0.190914               1.0                0.0   \n",
       "\n",
       "      Geography_Spain  Gender_Female  Gender_Male  \n",
       "0                 0.0            1.0          0.0  \n",
       "1                 1.0            1.0          0.0  \n",
       "2                 0.0            1.0          0.0  \n",
       "3                 0.0            1.0          0.0  \n",
       "4                 1.0            1.0          0.0  \n",
       "...               ...            ...          ...  \n",
       "9995              0.0            0.0          1.0  \n",
       "9996              0.0            0.0          1.0  \n",
       "9997              0.0            1.0          0.0  \n",
       "9998              0.0            0.0          1.0  \n",
       "9999              0.0            1.0          0.0  \n",
       "\n",
       "[10000 rows x 13 columns]"
      ]
     },
     "execution_count": 29,
     "metadata": {},
     "output_type": "execute_result"
    }
   ],
   "source": [
    "X"
   ]
  },
  {
   "cell_type": "markdown",
   "id": "0ca4f693",
   "metadata": {},
   "source": [
    "### Apply KNN Model"
   ]
  },
  {
   "cell_type": "code",
   "execution_count": 30,
   "id": "bab1a5f0",
   "metadata": {
    "ExecuteTime": {
     "end_time": "2021-12-26T10:38:18.076597Z",
     "start_time": "2021-12-26T10:38:17.876617Z"
    }
   },
   "outputs": [
    {
     "data": {
      "text/plain": [
       "KNeighborsClassifier()"
      ]
     },
     "execution_count": 30,
     "metadata": {},
     "output_type": "execute_result"
    },
    {
     "data": {
      "text/plain": [
       "0.7624"
      ]
     },
     "execution_count": 30,
     "metadata": {},
     "output_type": "execute_result"
    }
   ],
   "source": [
    "from sklearn.neighbors import KNeighborsClassifier\n",
    "knn = KNeighborsClassifier()\n",
    "knn_model = knn.fit(X_train, y_train)\n",
    "knn_model\n",
    "\n",
    "y_pred_knn = knn_model.predict(X_test)\n",
    "\n",
    "#print prediction score\n",
    "accuracy_score(y_test, y_pred_knn)"
   ]
  },
  {
   "cell_type": "markdown",
   "id": "1ad88dfc",
   "metadata": {},
   "source": [
    "### Evaluate Model Performance"
   ]
  },
  {
   "cell_type": "code",
   "execution_count": 32,
   "id": "995bcac1",
   "metadata": {
    "ExecuteTime": {
     "end_time": "2021-12-26T10:40:07.272484Z",
     "start_time": "2021-12-26T10:40:06.472791Z"
    }
   },
   "outputs": [
    {
     "data": {
      "text/plain": [
       "Text(0.5, 1.0, 'Confusion Matrix')"
      ]
     },
     "execution_count": 32,
     "metadata": {},
     "output_type": "execute_result"
    },
    {
     "name": "stdout",
     "output_type": "stream",
     "text": [
      "Training Accuracy : 0.8166666666666667\n",
      "Testing Accuracy : 0.7624\n"
     ]
    },
    {
     "data": {
      "image/png": "[encoded data removed]",
      "text/plain": [
       "<Figure size 432x288 with 2 Axes>"
      ]
     },
     "metadata": {
      "needs_background": "light"
     },
     "output_type": "display_data"
    }
   ],
   "source": [
    "# Confusion Matrix\n",
    "\n",
    "font = {'size'   : 15}\n",
    "plt.rc('font', **font) \n",
    "\n",
    "cm = confusion_matrix(y_test, y_pred_knn) # calculate\n",
    "cm_display = ConfusionMatrixDisplay(cm, display_labels=['0 - Negative', '1 - Positive']).plot() # visualize\n",
    "plt.title('Confusion Matrix')\n",
    "\n",
    "\n",
    "# print training and testing scores\n",
    "print(\"Training Accuracy :\", knn_model.score(X_train, y_train))\n",
    "\n",
    "print(\"Testing Accuracy :\", knn_model.score(X_test, y_test))"
   ]
  },
  {
   "cell_type": "code",
   "execution_count": 33,
   "id": "0f3d1e0a",
   "metadata": {
    "ExecuteTime": {
     "end_time": "2021-12-26T10:40:12.991810Z",
     "start_time": "2021-12-26T10:40:12.411206Z"
    },
    "scrolled": false
   },
   "outputs": [
    {
     "data": {
      "text/plain": [
       "array([0.4, 0. , 0.4, ..., 0.2, 0. , 0.4])"
      ]
     },
     "execution_count": 33,
     "metadata": {},
     "output_type": "execute_result"
    },
    {
     "data": {
      "text/plain": [
       "[<matplotlib.lines.Line2D at 0x7f92d6218340>]"
      ]
     },
     "execution_count": 33,
     "metadata": {},
     "output_type": "execute_result"
    },
    {
     "data": {
      "text/plain": [
       "[]"
      ]
     },
     "execution_count": 33,
     "metadata": {},
     "output_type": "execute_result"
    },
    {
     "data": {
      "text/plain": [
       "Text(0.5, 0, 'False Positive Rate')"
      ]
     },
     "execution_count": 33,
     "metadata": {},
     "output_type": "execute_result"
    },
    {
     "data": {
      "text/plain": [
       "Text(0, 0.5, 'True Positive Rate')"
      ]
     },
     "execution_count": 33,
     "metadata": {},
     "output_type": "execute_result"
    },
    {
     "data": {
      "text/plain": [
       "Text(0.5, 1.0, 'ROC Curve')"
      ]
     },
     "execution_count": 33,
     "metadata": {},
     "output_type": "execute_result"
    },
    {
     "data": {
      "image/png": "[encoded data removed]",
      "text/plain": [
       "<Figure size 432x288 with 1 Axes>"
      ]
     },
     "metadata": {
      "needs_background": "light"
     },
     "output_type": "display_data"
    },
    {
     "name": "stdout",
     "output_type": "stream",
     "text": [
      "AUC score:  0.5174069165863281\n"
     ]
    }
   ],
   "source": [
    "from sklearn.metrics import roc_curve, roc_auc_score\n",
    "\n",
    "from sklearn.metrics import RocCurveDisplay\n",
    "y_score = knn_model.predict_proba(X_test)[:,1]\n",
    "y_score\n",
    "\n",
    "\n",
    "fpr, tpr, threshold = roc_curve(y_test, y_score, pos_label=knn_model.classes_[1])\n",
    "roc_display = RocCurveDisplay(fpr=fpr, tpr=tpr).plot()\n",
    "\n",
    "\n",
    "plt.plot([0, 1], [0, 1], 'k--')\n",
    "plt.plot(fpr=fpr, tpr=tpr)\n",
    "plt.xlabel('False Positive Rate')\n",
    "plt.ylabel('True Positive Rate')\n",
    "plt.title('ROC Curve')\n",
    "plt.show()\n",
    "\n",
    "#print AUC score\n",
    "print('AUC score: ',roc_auc_score(y_test, knn_model.predict(X_test))) "
   ]
  },
  {
   "cell_type": "markdown",
   "id": "62c77b81",
   "metadata": {},
   "source": [
    "The KNN model was fitted on the training data for the purpose of predicting clients who are likely to churn. The results shows that this model has an accuracy of 76.2% and auc score of 0.517. Next we shall run other models to evaluate which model fits the training data with the best accuracy."
   ]
  },
  {
   "cell_type": "markdown",
   "id": "99990225",
   "metadata": {},
   "source": [
    "### Apply Logistic Regression Model"
   ]
  },
  {
   "cell_type": "code",
   "execution_count": 34,
   "id": "906e91e8",
   "metadata": {
    "ExecuteTime": {
     "end_time": "2021-12-26T10:40:17.418399Z",
     "start_time": "2021-12-26T10:40:17.272483Z"
    },
    "scrolled": true
   },
   "outputs": [
    {
     "name": "stdout",
     "output_type": "stream",
     "text": [
      "0.7888\n"
     ]
    }
   ],
   "source": [
    "from sklearn.linear_model import LogisticRegression\n",
    "from sklearn import metrics\n",
    "LoR = LogisticRegression()\n",
    "LoR_model = LoR.fit(X_train, y_train)\n",
    "y_pred_LoR = LoR_model.predict(X_test)\n",
    "\n",
    "# print prediction score\n",
    "print (accuracy_score(y_test, y_pred_LoR)) "
   ]
  },
  {
   "cell_type": "markdown",
   "id": "c77316a2",
   "metadata": {},
   "source": [
    "### Evaluate model performance"
   ]
  },
  {
   "cell_type": "code",
   "execution_count": 35,
   "id": "e094babf",
   "metadata": {
    "ExecuteTime": {
     "end_time": "2021-12-26T10:40:21.542720Z",
     "start_time": "2021-12-26T10:40:21.291516Z"
    },
    "scrolled": false
   },
   "outputs": [
    {
     "data": {
      "text/plain": [
       "Text(0.5, 1.0, 'Confusion Matrix')"
      ]
     },
     "execution_count": 35,
     "metadata": {},
     "output_type": "execute_result"
    },
    {
     "name": "stdout",
     "output_type": "stream",
     "text": [
      "Training Accuracy : 0.7909333333333334\n",
      "Testing Accuracy : 0.7888\n"
     ]
    },
    {
     "data": {
      "image/png": "[encoded data removed]",
      "text/plain": [
       "<Figure size 432x288 with 2 Axes>"
      ]
     },
     "metadata": {
      "needs_background": "light"
     },
     "output_type": "display_data"
    }
   ],
   "source": [
    "font = {'size'   : 15}\n",
    "plt.rc('font', **font) \n",
    "\n",
    "cm = confusion_matrix(y_test, y_pred_LoR) # calculate\n",
    "cm_display = ConfusionMatrixDisplay(cm, display_labels=['0 - Negative', '1 - Positive']).plot() # visualize\n",
    "plt.title('Confusion Matrix')\n",
    "\n",
    "\n",
    "#print training and testing scores\n",
    "\n",
    "print(\"Training Accuracy :\", LoR_model.score(X_train, y_train))\n",
    "\n",
    "print(\"Testing Accuracy :\", LoR_model.score(X_test, y_test))"
   ]
  },
  {
   "cell_type": "code",
   "execution_count": 36,
   "id": "1aa52030",
   "metadata": {
    "ExecuteTime": {
     "end_time": "2021-12-26T10:40:24.466702Z",
     "start_time": "2021-12-26T10:40:24.132166Z"
    },
    "scrolled": false
   },
   "outputs": [
    {
     "data": {
      "text/plain": [
       "array([0.22257435, 0.33841045, 0.18393492, ..., 0.0914789 , 0.19265428,\n",
       "       0.11778053])"
      ]
     },
     "execution_count": 36,
     "metadata": {},
     "output_type": "execute_result"
    },
    {
     "data": {
      "text/plain": [
       "[<matplotlib.lines.Line2D at 0x7f92d62b7ee0>]"
      ]
     },
     "execution_count": 36,
     "metadata": {},
     "output_type": "execute_result"
    },
    {
     "data": {
      "text/plain": [
       "[]"
      ]
     },
     "execution_count": 36,
     "metadata": {},
     "output_type": "execute_result"
    },
    {
     "data": {
      "text/plain": [
       "Text(0.5, 0, 'False Positive Rate')"
      ]
     },
     "execution_count": 36,
     "metadata": {},
     "output_type": "execute_result"
    },
    {
     "data": {
      "text/plain": [
       "Text(0, 0.5, 'True Positive Rate')"
      ]
     },
     "execution_count": 36,
     "metadata": {},
     "output_type": "execute_result"
    },
    {
     "data": {
      "text/plain": [
       "Text(0.5, 1.0, 'ROC Curve')"
      ]
     },
     "execution_count": 36,
     "metadata": {},
     "output_type": "execute_result"
    },
    {
     "data": {
      "image/png": "[encoded data removed]",
      "text/plain": [
       "<Figure size 432x288 with 1 Axes>"
      ]
     },
     "metadata": {
      "needs_background": "light"
     },
     "output_type": "display_data"
    },
    {
     "name": "stdout",
     "output_type": "stream",
     "text": [
      "AUC score:  0.5164329857640324\n"
     ]
    }
   ],
   "source": [
    "from sklearn.metrics import roc_curve, roc_auc_score\n",
    "\n",
    "from sklearn.metrics import RocCurveDisplay\n",
    "y_score = LoR_model.predict_proba(X_test)[:,1]\n",
    "y_score\n",
    "\n",
    "\n",
    "fpr, tpr, threshold = roc_curve(y_test, y_score, pos_label=LoR_model.classes_[1])\n",
    "roc_display = RocCurveDisplay(fpr=fpr, tpr=tpr).plot()\n",
    "\n",
    "\n",
    "plt.plot([0, 1], [0, 1], 'k--')\n",
    "plt.plot(fpr=fpr, tpr=tpr)\n",
    "plt.xlabel('False Positive Rate')\n",
    "plt.ylabel('True Positive Rate')\n",
    "plt.title('ROC Curve')\n",
    "plt.show()\n",
    "\n",
    "#print AUC score\n",
    "print('AUC score: ',roc_auc_score(y_test, LoR_model.predict(X_test))) "
   ]
  },
  {
   "cell_type": "markdown",
   "id": "19f2f1b9",
   "metadata": {},
   "source": [
    "The results shows that the logistic regression model has an accuracy of 78.9% and auc score of 0.516."
   ]
  },
  {
   "cell_type": "markdown",
   "id": "c80c07a0",
   "metadata": {},
   "source": [
    "### Apply Random Forest Classifier"
   ]
  },
  {
   "cell_type": "code",
   "execution_count": 37,
   "id": "12e573de",
   "metadata": {
    "ExecuteTime": {
     "end_time": "2021-12-26T10:40:30.379362Z",
     "start_time": "2021-12-26T10:40:27.125545Z"
    }
   },
   "outputs": [
    {
     "data": {
      "text/plain": [
       "RandomForestClassifier(max_leaf_nodes=30, n_estimators=500, n_jobs=-1,\n",
       "                       oob_score=True, random_state=50)"
      ]
     },
     "execution_count": 37,
     "metadata": {},
     "output_type": "execute_result"
    },
    {
     "name": "stdout",
     "output_type": "stream",
     "text": [
      "0.8592\n"
     ]
    }
   ],
   "source": [
    "from sklearn.ensemble import RandomForestClassifier\n",
    "RF_model = RandomForestClassifier(n_estimators=500 , oob_score = True, n_jobs = -1,\n",
    "                                  random_state =50, max_features = \"auto\",\n",
    "                                  max_leaf_nodes = 30)\n",
    "RF_model.fit(X_train, y_train)\n",
    "# Make predictions\n",
    "y_pred_rf = RF_model.predict(X_test)\n",
    "probs = RF_model.predict_proba(X_test)\n",
    "\n",
    "#print accuracy score\n",
    "print (accuracy_score(y_test, y_pred_rf))"
   ]
  },
  {
   "cell_type": "markdown",
   "id": "fa6b4ce7",
   "metadata": {},
   "source": [
    "### Evaluate Model Performance"
   ]
  },
  {
   "cell_type": "code",
   "execution_count": 38,
   "id": "eb7173d5",
   "metadata": {
    "ExecuteTime": {
     "end_time": "2021-12-26T10:40:34.024199Z",
     "start_time": "2021-12-26T10:40:33.177716Z"
    },
    "scrolled": false
   },
   "outputs": [
    {
     "data": {
      "text/plain": [
       "Text(0.5, 1.0, 'Confusion Matrix')"
      ]
     },
     "execution_count": 38,
     "metadata": {},
     "output_type": "execute_result"
    },
    {
     "name": "stdout",
     "output_type": "stream",
     "text": [
      "Training Accuracy : 0.8626666666666667\n",
      "Testing Accuracy : 0.8592\n"
     ]
    },
    {
     "data": {
      "image/png": "[encoded data removed]",
      "text/plain": [
       "<Figure size 432x288 with 2 Axes>"
      ]
     },
     "metadata": {
      "needs_background": "light"
     },
     "output_type": "display_data"
    }
   ],
   "source": [
    "font = {'size'   : 15}\n",
    "plt.rc('font', **font) \n",
    "\n",
    "cm = confusion_matrix(y_test, y_pred_rf) # calculate\n",
    "cm_display = ConfusionMatrixDisplay(cm, display_labels=['0 - Negative', '1 - Positive']).plot() # visualize\n",
    "plt.title('Confusion Matrix')\n",
    "\n",
    "\n",
    "#print training and testing scores\n",
    "print(\"Training Accuracy :\", RF_model.score(X_train, y_train))\n",
    "\n",
    "print(\"Testing Accuracy :\", RF_model.score(X_test, y_test))"
   ]
  },
  {
   "cell_type": "code",
   "execution_count": 39,
   "id": "63db5066",
   "metadata": {
    "ExecuteTime": {
     "end_time": "2021-12-26T10:40:36.969308Z",
     "start_time": "2021-12-26T10:40:36.158273Z"
    }
   },
   "outputs": [
    {
     "data": {
      "text/plain": [
       "array([0.24614801, 0.19566506, 0.20296901, ..., 0.17756017, 0.18558919,\n",
       "       0.11103042])"
      ]
     },
     "execution_count": 39,
     "metadata": {},
     "output_type": "execute_result"
    },
    {
     "data": {
      "text/plain": [
       "[<matplotlib.lines.Line2D at 0x7f92d4b40520>]"
      ]
     },
     "execution_count": 39,
     "metadata": {},
     "output_type": "execute_result"
    },
    {
     "data": {
      "text/plain": [
       "[]"
      ]
     },
     "execution_count": 39,
     "metadata": {},
     "output_type": "execute_result"
    },
    {
     "data": {
      "text/plain": [
       "Text(0.5, 0, 'False Positive Rate')"
      ]
     },
     "execution_count": 39,
     "metadata": {},
     "output_type": "execute_result"
    },
    {
     "data": {
      "text/plain": [
       "Text(0, 0.5, 'True Positive Rate')"
      ]
     },
     "execution_count": 39,
     "metadata": {},
     "output_type": "execute_result"
    },
    {
     "data": {
      "text/plain": [
       "Text(0.5, 1.0, 'ROC Curve')"
      ]
     },
     "execution_count": 39,
     "metadata": {},
     "output_type": "execute_result"
    },
    {
     "data": {
      "image/png": "[encoded data removed]",
      "text/plain": [
       "<Figure size 432x288 with 1 Axes>"
      ]
     },
     "metadata": {
      "needs_background": "light"
     },
     "output_type": "display_data"
    },
    {
     "name": "stdout",
     "output_type": "stream",
     "text": [
      "AUC score:  0.6812779314380331\n"
     ]
    }
   ],
   "source": [
    "from sklearn.metrics import roc_curve, roc_auc_score\n",
    "\n",
    "from sklearn.metrics import RocCurveDisplay\n",
    "y_score = RF_model.predict_proba(X_test)[:,1]\n",
    "y_score\n",
    "\n",
    "\n",
    "fpr, tpr, threshold = roc_curve(y_test, y_score, pos_label=RF_model.classes_[1])\n",
    "roc_display = RocCurveDisplay(fpr=fpr, tpr=tpr).plot()\n",
    "\n",
    "\n",
    "plt.plot([0, 1], [0, 1], 'k--')\n",
    "plt.plot(fpr=fpr, tpr=tpr)\n",
    "plt.xlabel('False Positive Rate')\n",
    "plt.ylabel('True Positive Rate')\n",
    "plt.title('ROC Curve')\n",
    "plt.show()\n",
    "\n",
    "print('AUC score: ',roc_auc_score(y_test, RF_model.predict(X_test))) "
   ]
  },
  {
   "cell_type": "markdown",
   "id": "d61156df",
   "metadata": {},
   "source": [
    "The results shows that the random forest classifier has an accuracy of 85.9% and auc score of 0.681, which are higher than the earlier models."
   ]
  },
  {
   "cell_type": "code",
   "execution_count": 40,
   "id": "9ac27337",
   "metadata": {
    "ExecuteTime": {
     "end_time": "2021-12-26T10:40:42.090981Z",
     "start_time": "2021-12-26T10:40:41.620518Z"
    }
   },
   "outputs": [
    {
     "data": {
      "text/plain": [
       "<AxesSubplot:>"
      ]
     },
     "execution_count": 40,
     "metadata": {},
     "output_type": "execute_result"
    },
    {
     "data": {
      "text/plain": [
       "Age                  0.379978\n",
       "NumOfProducts        0.289149\n",
       "IsActiveMember       0.081284\n",
       "Balance              0.073252\n",
       "Geography_Germany    0.066639\n",
       "CreditScore          0.030018\n",
       "EstimatedSalary      0.023614\n",
       "Geography_France     0.014157\n",
       "Gender_Female        0.012578\n",
       "Gender_Male          0.012048\n",
       "Tenure               0.009796\n",
       "Geography_Spain      0.006328\n",
       "HasCrCard            0.001158\n",
       "dtype: float64"
      ]
     },
     "execution_count": 40,
     "metadata": {},
     "output_type": "execute_result"
    },
    {
     "data": {
      "image/png": "[encoded data removed]",
      "text/plain": [
       "<Figure size 432x288 with 1 Axes>"
      ]
     },
     "metadata": {
      "needs_background": "light"
     },
     "output_type": "display_data"
    }
   ],
   "source": [
    "# Getting the weights of all the variables on the RF model which has the highest accuracy.\n",
    "\n",
    "influence = RF_model.feature_importances_\n",
    "weights = pd.Series(influence,\n",
    "                 index=X.columns.values)\n",
    "weights.sort_values()[-13:].plot(kind = 'barh')\n",
    "weights.sort_values(ascending = False)"
   ]
  },
  {
   "cell_type": "markdown",
   "id": "f250841c",
   "metadata": {},
   "source": [
    "Based on the above, it is observed that Age has the highest influence on the RF model."
   ]
  },
  {
   "cell_type": "markdown",
   "id": "4c7baeb3",
   "metadata": {},
   "source": [
    "### Model tuning"
   ]
  },
  {
   "cell_type": "code",
   "execution_count": 41,
   "id": "a63499d0",
   "metadata": {
    "ExecuteTime": {
     "end_time": "2021-12-26T10:41:07.203950Z",
     "start_time": "2021-12-26T10:40:48.269505Z"
    }
   },
   "outputs": [
    {
     "data": {
      "text/plain": [
       "GridSearchCV(cv=5, estimator=KNeighborsClassifier(), n_jobs=-1,\n",
       "             param_grid={'n_neighbors': [1, 2, 3, 4, 5, 6, 7, 8, 9, 10, 11, 12,\n",
       "                                         13, 14, 15, 16, 17, 18, 19, 20, 21, 22,\n",
       "                                         23, 24, 25, 26, 27, 28, 29, 30]},\n",
       "             scoring='accuracy')"
      ]
     },
     "execution_count": 41,
     "metadata": {},
     "output_type": "execute_result"
    },
    {
     "name": "stdout",
     "output_type": "stream",
     "text": [
      "0.796\n",
      "{'n_neighbors': 28}\n",
      "KNeighborsClassifier(n_neighbors=28)\n"
     ]
    }
   ],
   "source": [
    "#Grid Seach CV to finetune the parameters of the KNN model\n",
    "\n",
    "from sklearn.model_selection import GridSearchCV\n",
    "\n",
    "k_range = list(range(1, 31))\n",
    "param_grid = dict(n_neighbors=k_range)\n",
    "grid = GridSearchCV(knn_model, param_grid, cv=5, scoring='accuracy', n_jobs=-1)\n",
    "\n",
    "# fit\n",
    "grid.fit(X_train, y_train)\n",
    "\n",
    "print(grid.best_score_)\n",
    "print(grid.best_params_)\n",
    "print(grid.best_estimator_)"
   ]
  },
  {
   "cell_type": "code",
   "execution_count": 42,
   "id": "1847d897",
   "metadata": {
    "ExecuteTime": {
     "end_time": "2021-12-26T10:41:31.422350Z",
     "start_time": "2021-12-26T10:41:31.205953Z"
    }
   },
   "outputs": [
    {
     "data": {
      "text/plain": [
       "KNeighborsClassifier(n_neighbors=28)"
      ]
     },
     "execution_count": 42,
     "metadata": {},
     "output_type": "execute_result"
    }
   ],
   "source": [
    "# Put the best params to test\n",
    "\n",
    "best_model = KNeighborsClassifier(n_neighbors = 28)\n",
    "best_model.fit(X_train, y_train)\n",
    "\n",
    "y_pred_best = best_model.predict(X_test)"
   ]
  },
  {
   "cell_type": "code",
   "execution_count": 43,
   "id": "65c742e0",
   "metadata": {
    "ExecuteTime": {
     "end_time": "2021-12-26T10:41:34.461296Z",
     "start_time": "2021-12-26T10:41:34.441746Z"
    }
   },
   "outputs": [
    {
     "name": "stdout",
     "output_type": "stream",
     "text": [
      "[[1991    0]\n",
      " [ 508    1]]\n",
      "0.7968\n",
      "0.5009823182711198\n"
     ]
    }
   ],
   "source": [
    "from sklearn.metrics import confusion_matrix, accuracy_score, roc_auc_score\n",
    "cm = confusion_matrix(y_test, y_pred_best)\n",
    "\n",
    "#print confusion matrix, accuracy and AUC score\n",
    "print(cm)\n",
    "print (accuracy_score(y_test, y_pred_best))\n",
    "print (roc_auc_score(y_test, y_pred_best))"
   ]
  },
  {
   "cell_type": "code",
   "execution_count": 44,
   "id": "d3d153b4",
   "metadata": {
    "ExecuteTime": {
     "end_time": "2021-12-26T10:41:40.984942Z",
     "start_time": "2021-12-26T10:41:40.100814Z"
    }
   },
   "outputs": [
    {
     "data": {
      "text/plain": [
       "Text(0.5, 1.0, 'Confusion Matrix')"
      ]
     },
     "execution_count": 44,
     "metadata": {},
     "output_type": "execute_result"
    },
    {
     "name": "stdout",
     "output_type": "stream",
     "text": [
      "Training Accuracy : 0.7962666666666667\n",
      "Testing Accuracy : 0.7968\n"
     ]
    },
    {
     "data": {
      "image/png": "[encoded data removed]",
      "text/plain": [
       "<Figure size 432x288 with 2 Axes>"
      ]
     },
     "metadata": {
      "needs_background": "light"
     },
     "output_type": "display_data"
    }
   ],
   "source": [
    "font = {'size'   : 15}\n",
    "plt.rc('font', **font) \n",
    "\n",
    "cm = confusion_matrix(y_test, y_pred_best) # calculate\n",
    "cm_display = ConfusionMatrixDisplay(cm, display_labels=['0 - Negative', '1 - Positive']).plot() # visualize\n",
    "plt.title('Confusion Matrix')\n",
    "\n",
    "#print training and testing scores\n",
    "print(\"Training Accuracy :\", best_model.score(X_train, y_train))\n",
    "\n",
    "print(\"Testing Accuracy :\", best_model.score(X_test, y_test))"
   ]
  },
  {
   "cell_type": "code",
   "execution_count": 45,
   "id": "5f8a0197",
   "metadata": {
    "ExecuteTime": {
     "end_time": "2021-12-26T10:42:03.952673Z",
     "start_time": "2021-12-26T10:42:03.485853Z"
    },
    "scrolled": false
   },
   "outputs": [
    {
     "data": {
      "text/plain": [
       "array([0.25      , 0.17857143, 0.32142857, ..., 0.21428571, 0.28571429,\n",
       "       0.21428571])"
      ]
     },
     "execution_count": 45,
     "metadata": {},
     "output_type": "execute_result"
    },
    {
     "data": {
      "text/plain": [
       "[<matplotlib.lines.Line2D at 0x7f92d7e8a430>]"
      ]
     },
     "execution_count": 45,
     "metadata": {},
     "output_type": "execute_result"
    },
    {
     "data": {
      "text/plain": [
       "[]"
      ]
     },
     "execution_count": 45,
     "metadata": {},
     "output_type": "execute_result"
    },
    {
     "data": {
      "text/plain": [
       "Text(0.5, 0, 'False Positive Rate')"
      ]
     },
     "execution_count": 45,
     "metadata": {},
     "output_type": "execute_result"
    },
    {
     "data": {
      "text/plain": [
       "Text(0, 0.5, 'True Positive Rate')"
      ]
     },
     "execution_count": 45,
     "metadata": {},
     "output_type": "execute_result"
    },
    {
     "data": {
      "text/plain": [
       "Text(0.5, 1.0, 'ROC Curve')"
      ]
     },
     "execution_count": 45,
     "metadata": {},
     "output_type": "execute_result"
    },
    {
     "data": {
      "image/png": "[encoded data removed]",
      "text/plain": [
       "<Figure size 432x288 with 1 Axes>"
      ]
     },
     "metadata": {
      "needs_background": "light"
     },
     "output_type": "display_data"
    },
    {
     "name": "stdout",
     "output_type": "stream",
     "text": [
      "AUC score:  0.5009823182711198\n"
     ]
    }
   ],
   "source": [
    "from sklearn.metrics import roc_curve, roc_auc_score\n",
    "\n",
    "from sklearn.metrics import RocCurveDisplay\n",
    "y_score = best_model.predict_proba(X_test)[:,1]\n",
    "y_score\n",
    "\n",
    "\n",
    "fpr, tpr, threshold = roc_curve(y_test, y_score, pos_label=best_model.classes_[1])\n",
    "roc_display = RocCurveDisplay(fpr=fpr, tpr=tpr).plot()\n",
    "\n",
    "\n",
    "plt.plot([0, 1], [0, 1], 'k--')\n",
    "plt.plot(fpr=fpr, tpr=tpr)\n",
    "plt.xlabel('False Positive Rate')\n",
    "plt.ylabel('True Positive Rate')\n",
    "plt.title('ROC Curve')\n",
    "plt.show()\n",
    "\n",
    "#print AUC score\n",
    "print('AUC score: ',roc_auc_score(y_test, best_model.predict(X_test))) "
   ]
  },
  {
   "cell_type": "markdown",
   "id": "4510f7ba",
   "metadata": {},
   "source": [
    "After tuning, the accuracy score of the KNN model improved from 76.2% to 79.7% but is still lower than Random Forest model."
   ]
  },
  {
   "cell_type": "markdown",
   "id": "0bdf0f2e",
   "metadata": {},
   "source": [
    "## Conclusion"
   ]
  },
  {
   "cell_type": "markdown",
   "id": "1bb785d7",
   "metadata": {},
   "source": [
    "* Random Forest Classifier was the most efficient model as compared to KNN model and Logistic Regression model\n",
    "* Accuracy of Random Forest is 85.9%, followed by 78.9% for Logistic Regression and 76.2% for KNN on test set\n",
    "* Random Forest Classifier also did a better job of classifying the positive class in the dataset among the other models\n",
    "* Age has the highest correlation to customers churning in both the correlation matrix and the weights of the variables on the Random Forest Classifier\n",
    "* To achieve better accuracy and AUC scores, we can consider exploring other machine learning models.\n",
    "* It will be useful if more variables can be included in the dataset for more accurate predictions, like:\n",
    "    * Education level\n",
    "    * Occupation \n",
    "    * Customer segmentation, i.e. salary customer, loan customer or credit card user and their product types"
   ]
  }
 ],
 "metadata": {
  "kernelspec": {
   "display_name": "Python 3 (ipykernel)",
   "language": "python",
   "name": "python3"
  },
  "language_info": {
   "codemirror_mode": {
    "name": "ipython",
    "version": 3
   },
   "file_extension": ".py",
   "mimetype": "text/x-python",
   "name": "python",
   "nbconvert_exporter": "python",
   "pygments_lexer": "ipython3",
   "version": "3.9.7"
  },
  "toc": {
   "base_numbering": 1,
   "nav_menu": {},
   "number_sections": true,
   "sideBar": true,
   "skip_h1_title": false,
   "title_cell": "Table of Contents",
   "title_sidebar": "Contents",
   "toc_cell": false,
   "toc_position": {
    "height": "calc(100% - 180px)",
    "left": "10px",
    "top": "150px",
    "width": "288px"
   },
   "toc_section_display": true,
   "toc_window_display": true
  }
 },
 "nbformat": 4,
 "nbformat_minor": 5
}
